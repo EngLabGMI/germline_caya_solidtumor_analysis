{
 "cells": [
  {
   "cell_type": "markdown",
   "metadata": {},
   "source": [
    "# Make Gene vs Tumor Type Heatmap for CHD monoallelic"
   ]
  },
  {
   "cell_type": "code",
   "execution_count": 1,
   "metadata": {},
   "outputs": [
    {
     "name": "stderr",
     "output_type": "stream",
     "text": [
      "Warning message in rgl.init(initValue, onlyNULL):\n",
      "“RGL: unable to open X11 display”Warning message:\n",
      "“'rgl_init' failed, running with rgl.useNULL = TRUE”"
     ]
    }
   ],
   "source": [
    "source(\"~/bin/da.R\")"
   ]
  },
  {
   "cell_type": "code",
   "execution_count": 11,
   "metadata": {},
   "outputs": [],
   "source": [
    "save_pheatmap <- function(x, filename, width=800, height=1000) {\n",
    "   stopifnot(!missing(x))\n",
    "   stopifnot(!missing(filename))\n",
    "   svg(filename, pointsize = 300 )\n",
    "   grid::grid.newpage()\n",
    "   grid::grid.draw(x$gtable)\n",
    "   dev.off()\n",
    "}"
   ]
  },
  {
   "cell_type": "code",
   "execution_count": 3,
   "metadata": {},
   "outputs": [],
   "source": [
    "k = read.csv(\"../maf_res/gene_vs_tt_CHD_only_monoallelic.csv\", sep=\"\\t\")\n",
    "kmat = as.matrix( k[-1] )\n",
    "rownames(kmat) = k[,1]"
   ]
  },
  {
   "cell_type": "code",
   "execution_count": 4,
   "metadata": {},
   "outputs": [
    {
     "data": {
      "text/html": [
       "<table>\n",
       "<caption>A matrix: 6 × 13 of type dbl</caption>\n",
       "<thead>\n",
       "\t<tr><th></th><th scope=col>ACT</th><th scope=col>CA</th><th scope=col>CNS</th><th scope=col>EWS</th><th scope=col>GCT</th><th scope=col>HGG</th><th scope=col>LGG</th><th scope=col>NBL</th><th scope=col>OS</th><th scope=col>OST</th><th scope=col>RHB</th><th scope=col>STS</th><th scope=col>WLM</th></tr>\n",
       "</thead>\n",
       "<tbody>\n",
       "\t<tr><th scope=row>CHD7</th><td>0</td><td>0</td><td> 0</td><td>0</td><td>1</td><td>0</td><td>1</td><td>0</td><td>0</td><td>0</td><td>1</td><td>0</td><td>0</td></tr>\n",
       "\t<tr><th scope=row>EP300</th><td>1</td><td>0</td><td> 0</td><td>0</td><td>0</td><td>0</td><td>0</td><td>0</td><td>0</td><td>0</td><td>0</td><td>0</td><td>0</td></tr>\n",
       "\t<tr><th scope=row>FBN2</th><td>0</td><td>2</td><td> 0</td><td>0</td><td>0</td><td>0</td><td>0</td><td>1</td><td>0</td><td>0</td><td>1</td><td>0</td><td>0</td></tr>\n",
       "\t<tr><th scope=row>KMT2D</th><td>0</td><td>0</td><td> 1</td><td>0</td><td>0</td><td>0</td><td>0</td><td>0</td><td>0</td><td>0</td><td>0</td><td>0</td><td>0</td></tr>\n",
       "\t<tr><th scope=row>RAI1</th><td>0</td><td>0</td><td> 2</td><td>0</td><td>0</td><td>0</td><td>1</td><td>0</td><td>0</td><td>0</td><td>0</td><td>0</td><td>1</td></tr>\n",
       "\t<tr><th scope=row>NF1</th><td>0</td><td>0</td><td>15</td><td>0</td><td>0</td><td>2</td><td>1</td><td>2</td><td>0</td><td>0</td><td>2</td><td>0</td><td>0</td></tr>\n",
       "</tbody>\n",
       "</table>\n"
      ],
      "text/latex": [
       "A matrix: 6 × 13 of type dbl\n",
       "\\begin{tabular}{r|lllllllllllll}\n",
       "  & ACT & CA & CNS & EWS & GCT & HGG & LGG & NBL & OS & OST & RHB & STS & WLM\\\\\n",
       "\\hline\n",
       "\tCHD7 & 0 & 0 &  0 & 0 & 1 & 0 & 1 & 0 & 0 & 0 & 1 & 0 & 0\\\\\n",
       "\tEP300 & 1 & 0 &  0 & 0 & 0 & 0 & 0 & 0 & 0 & 0 & 0 & 0 & 0\\\\\n",
       "\tFBN2 & 0 & 2 &  0 & 0 & 0 & 0 & 0 & 1 & 0 & 0 & 1 & 0 & 0\\\\\n",
       "\tKMT2D & 0 & 0 &  1 & 0 & 0 & 0 & 0 & 0 & 0 & 0 & 0 & 0 & 0\\\\\n",
       "\tRAI1 & 0 & 0 &  2 & 0 & 0 & 0 & 1 & 0 & 0 & 0 & 0 & 0 & 1\\\\\n",
       "\tNF1 & 0 & 0 & 15 & 0 & 0 & 2 & 1 & 2 & 0 & 0 & 2 & 0 & 0\\\\\n",
       "\\end{tabular}\n"
      ],
      "text/markdown": [
       "\n",
       "A matrix: 6 × 13 of type dbl\n",
       "\n",
       "| <!--/--> | ACT | CA | CNS | EWS | GCT | HGG | LGG | NBL | OS | OST | RHB | STS | WLM |\n",
       "|---|---|---|---|---|---|---|---|---|---|---|---|---|---|\n",
       "| CHD7 | 0 | 0 |  0 | 0 | 1 | 0 | 1 | 0 | 0 | 0 | 1 | 0 | 0 |\n",
       "| EP300 | 1 | 0 |  0 | 0 | 0 | 0 | 0 | 0 | 0 | 0 | 0 | 0 | 0 |\n",
       "| FBN2 | 0 | 2 |  0 | 0 | 0 | 0 | 0 | 1 | 0 | 0 | 1 | 0 | 0 |\n",
       "| KMT2D | 0 | 0 |  1 | 0 | 0 | 0 | 0 | 0 | 0 | 0 | 0 | 0 | 0 |\n",
       "| RAI1 | 0 | 0 |  2 | 0 | 0 | 0 | 1 | 0 | 0 | 0 | 0 | 0 | 1 |\n",
       "| NF1 | 0 | 0 | 15 | 0 | 0 | 2 | 1 | 2 | 0 | 0 | 2 | 0 | 0 |\n",
       "\n"
      ],
      "text/plain": [
       "      ACT CA CNS EWS GCT HGG LGG NBL OS OST RHB STS WLM\n",
       "CHD7  0   0   0  0   1   0   1   0   0  0   1   0   0  \n",
       "EP300 1   0   0  0   0   0   0   0   0  0   0   0   0  \n",
       "FBN2  0   2   0  0   0   0   0   1   0  0   1   0   0  \n",
       "KMT2D 0   0   1  0   0   0   0   0   0  0   0   0   0  \n",
       "RAI1  0   0   2  0   0   0   1   0   0  0   0   0   1  \n",
       "NF1   0   0  15  0   0   2   1   2   0  0   2   0   0  "
      ]
     },
     "metadata": {},
     "output_type": "display_data"
    }
   ],
   "source": [
    "kmat %>% head"
   ]
  },
  {
   "cell_type": "code",
   "execution_count": 5,
   "metadata": {},
   "outputs": [
    {
     "data": {
      "text/html": [
       "<ol class=list-inline>\n",
       "\t<li>26</li>\n",
       "\t<li>13</li>\n",
       "</ol>\n"
      ],
      "text/latex": [
       "\\begin{enumerate*}\n",
       "\\item 26\n",
       "\\item 13\n",
       "\\end{enumerate*}\n"
      ],
      "text/markdown": [
       "1. 26\n",
       "2. 13\n",
       "\n",
       "\n"
      ],
      "text/plain": [
       "[1] 26 13"
      ]
     },
     "metadata": {},
     "output_type": "display_data"
    }
   ],
   "source": [
    "kmat %>% dim"
   ]
  },
  {
   "cell_type": "code",
   "execution_count": 7,
   "metadata": {},
   "outputs": [
    {
     "name": "stdout",
     "output_type": "stream",
     "text": [
      "ACT  CA CNS EWS GCT HGG LGG NBL  OS OST RHB STS WLM \n",
      "  1   2  19   1   2   4   6  11   5   1   7   2   8 \n"
     ]
    }
   ],
   "source": [
    "print( colSums(kmat) )"
   ]
  },
  {
   "cell_type": "code",
   "execution_count": 8,
   "metadata": {},
   "outputs": [
    {
     "data": {
      "text/html": [
       "<table>\n",
       "<caption>A matrix: 26 × 13 of type dbl</caption>\n",
       "<thead>\n",
       "\t<tr><th></th><th scope=col>ACT</th><th scope=col>CA</th><th scope=col>CNS</th><th scope=col>EWS</th><th scope=col>GCT</th><th scope=col>HGG</th><th scope=col>LGG</th><th scope=col>NBL</th><th scope=col>OS</th><th scope=col>OST</th><th scope=col>RHB</th><th scope=col>STS</th><th scope=col>WLM</th></tr>\n",
       "</thead>\n",
       "<tbody>\n",
       "\t<tr><th scope=row>CHD7</th><td>0</td><td>0</td><td> 0</td><td>0</td><td>1</td><td>0</td><td>1</td><td>0</td><td>0</td><td>0</td><td>1</td><td>0</td><td>0</td></tr>\n",
       "\t<tr><th scope=row>EP300</th><td>1</td><td>0</td><td> 0</td><td>0</td><td>0</td><td>0</td><td>0</td><td>0</td><td>0</td><td>0</td><td>0</td><td>0</td><td>0</td></tr>\n",
       "\t<tr><th scope=row>FBN2</th><td>0</td><td>2</td><td> 0</td><td>0</td><td>0</td><td>0</td><td>0</td><td>1</td><td>0</td><td>0</td><td>1</td><td>0</td><td>0</td></tr>\n",
       "\t<tr><th scope=row>KMT2D</th><td>0</td><td>0</td><td> 1</td><td>0</td><td>0</td><td>0</td><td>0</td><td>0</td><td>0</td><td>0</td><td>0</td><td>0</td><td>0</td></tr>\n",
       "\t<tr><th scope=row>RAI1</th><td>0</td><td>0</td><td> 2</td><td>0</td><td>0</td><td>0</td><td>1</td><td>0</td><td>0</td><td>0</td><td>0</td><td>0</td><td>1</td></tr>\n",
       "\t<tr><th scope=row>NF1</th><td>0</td><td>0</td><td>15</td><td>0</td><td>0</td><td>2</td><td>1</td><td>2</td><td>0</td><td>0</td><td>2</td><td>0</td><td>0</td></tr>\n",
       "\t<tr><th scope=row>MYH7</th><td>0</td><td>0</td><td> 1</td><td>0</td><td>0</td><td>0</td><td>0</td><td>0</td><td>3</td><td>0</td><td>0</td><td>0</td><td>1</td></tr>\n",
       "\t<tr><th scope=row>TAB2</th><td>0</td><td>0</td><td> 0</td><td>1</td><td>0</td><td>0</td><td>0</td><td>0</td><td>0</td><td>0</td><td>0</td><td>0</td><td>0</td></tr>\n",
       "\t<tr><th scope=row>GATA4</th><td>0</td><td>0</td><td> 0</td><td>0</td><td>1</td><td>0</td><td>0</td><td>0</td><td>1</td><td>0</td><td>0</td><td>0</td><td>0</td></tr>\n",
       "\t<tr><th scope=row>TGFBR2</th><td>0</td><td>0</td><td> 0</td><td>0</td><td>0</td><td>1</td><td>0</td><td>0</td><td>0</td><td>0</td><td>0</td><td>0</td><td>0</td></tr>\n",
       "\t<tr><th scope=row>TBX20</th><td>0</td><td>0</td><td> 0</td><td>0</td><td>0</td><td>1</td><td>1</td><td>0</td><td>0</td><td>0</td><td>1</td><td>0</td><td>0</td></tr>\n",
       "\t<tr><th scope=row>GDF1</th><td>0</td><td>0</td><td> 0</td><td>0</td><td>0</td><td>0</td><td>1</td><td>0</td><td>0</td><td>0</td><td>0</td><td>0</td><td>0</td></tr>\n",
       "\t<tr><th scope=row>PTPN11</th><td>0</td><td>0</td><td> 0</td><td>0</td><td>0</td><td>0</td><td>1</td><td>1</td><td>0</td><td>0</td><td>0</td><td>0</td><td>0</td></tr>\n",
       "\t<tr><th scope=row>SMARCA4</th><td>0</td><td>0</td><td> 0</td><td>0</td><td>0</td><td>0</td><td>0</td><td>1</td><td>0</td><td>0</td><td>1</td><td>0</td><td>0</td></tr>\n",
       "\t<tr><th scope=row>SOX9</th><td>0</td><td>0</td><td> 0</td><td>0</td><td>0</td><td>0</td><td>0</td><td>1</td><td>0</td><td>0</td><td>0</td><td>0</td><td>0</td></tr>\n",
       "\t<tr><th scope=row>NRXN1</th><td>0</td><td>0</td><td> 0</td><td>0</td><td>0</td><td>0</td><td>0</td><td>3</td><td>0</td><td>0</td><td>0</td><td>0</td><td>0</td></tr>\n",
       "\t<tr><th scope=row>MYH6</th><td>0</td><td>0</td><td> 0</td><td>0</td><td>0</td><td>0</td><td>0</td><td>1</td><td>0</td><td>0</td><td>0</td><td>0</td><td>0</td></tr>\n",
       "\t<tr><th scope=row>NSD1</th><td>0</td><td>0</td><td> 0</td><td>0</td><td>0</td><td>0</td><td>0</td><td>1</td><td>0</td><td>0</td><td>0</td><td>0</td><td>0</td></tr>\n",
       "\t<tr><th scope=row>CREBBP</th><td>0</td><td>0</td><td> 0</td><td>0</td><td>0</td><td>0</td><td>0</td><td>0</td><td>1</td><td>0</td><td>0</td><td>0</td><td>1</td></tr>\n",
       "\t<tr><th scope=row>NOTCH1</th><td>0</td><td>0</td><td> 0</td><td>0</td><td>0</td><td>0</td><td>0</td><td>0</td><td>0</td><td>1</td><td>1</td><td>0</td><td>0</td></tr>\n",
       "\t<tr><th scope=row>CITED2</th><td>0</td><td>0</td><td> 0</td><td>0</td><td>0</td><td>0</td><td>0</td><td>0</td><td>0</td><td>0</td><td>0</td><td>2</td><td>0</td></tr>\n",
       "\t<tr><th scope=row>COL3A1</th><td>0</td><td>0</td><td> 0</td><td>0</td><td>0</td><td>0</td><td>0</td><td>0</td><td>0</td><td>0</td><td>0</td><td>0</td><td>1</td></tr>\n",
       "\t<tr><th scope=row>FOXC2</th><td>0</td><td>0</td><td> 0</td><td>0</td><td>0</td><td>0</td><td>0</td><td>0</td><td>0</td><td>0</td><td>0</td><td>0</td><td>1</td></tr>\n",
       "\t<tr><th scope=row>LRP5</th><td>0</td><td>0</td><td> 0</td><td>0</td><td>0</td><td>0</td><td>0</td><td>0</td><td>0</td><td>0</td><td>0</td><td>0</td><td>1</td></tr>\n",
       "\t<tr><th scope=row>PKD2</th><td>0</td><td>0</td><td> 0</td><td>0</td><td>0</td><td>0</td><td>0</td><td>0</td><td>0</td><td>0</td><td>0</td><td>0</td><td>1</td></tr>\n",
       "\t<tr><th scope=row>ARID1A</th><td>0</td><td>0</td><td> 0</td><td>0</td><td>0</td><td>0</td><td>0</td><td>0</td><td>0</td><td>0</td><td>0</td><td>0</td><td>1</td></tr>\n",
       "</tbody>\n",
       "</table>\n"
      ],
      "text/latex": [
       "A matrix: 26 × 13 of type dbl\n",
       "\\begin{tabular}{r|lllllllllllll}\n",
       "  & ACT & CA & CNS & EWS & GCT & HGG & LGG & NBL & OS & OST & RHB & STS & WLM\\\\\n",
       "\\hline\n",
       "\tCHD7 & 0 & 0 &  0 & 0 & 1 & 0 & 1 & 0 & 0 & 0 & 1 & 0 & 0\\\\\n",
       "\tEP300 & 1 & 0 &  0 & 0 & 0 & 0 & 0 & 0 & 0 & 0 & 0 & 0 & 0\\\\\n",
       "\tFBN2 & 0 & 2 &  0 & 0 & 0 & 0 & 0 & 1 & 0 & 0 & 1 & 0 & 0\\\\\n",
       "\tKMT2D & 0 & 0 &  1 & 0 & 0 & 0 & 0 & 0 & 0 & 0 & 0 & 0 & 0\\\\\n",
       "\tRAI1 & 0 & 0 &  2 & 0 & 0 & 0 & 1 & 0 & 0 & 0 & 0 & 0 & 1\\\\\n",
       "\tNF1 & 0 & 0 & 15 & 0 & 0 & 2 & 1 & 2 & 0 & 0 & 2 & 0 & 0\\\\\n",
       "\tMYH7 & 0 & 0 &  1 & 0 & 0 & 0 & 0 & 0 & 3 & 0 & 0 & 0 & 1\\\\\n",
       "\tTAB2 & 0 & 0 &  0 & 1 & 0 & 0 & 0 & 0 & 0 & 0 & 0 & 0 & 0\\\\\n",
       "\tGATA4 & 0 & 0 &  0 & 0 & 1 & 0 & 0 & 0 & 1 & 0 & 0 & 0 & 0\\\\\n",
       "\tTGFBR2 & 0 & 0 &  0 & 0 & 0 & 1 & 0 & 0 & 0 & 0 & 0 & 0 & 0\\\\\n",
       "\tTBX20 & 0 & 0 &  0 & 0 & 0 & 1 & 1 & 0 & 0 & 0 & 1 & 0 & 0\\\\\n",
       "\tGDF1 & 0 & 0 &  0 & 0 & 0 & 0 & 1 & 0 & 0 & 0 & 0 & 0 & 0\\\\\n",
       "\tPTPN11 & 0 & 0 &  0 & 0 & 0 & 0 & 1 & 1 & 0 & 0 & 0 & 0 & 0\\\\\n",
       "\tSMARCA4 & 0 & 0 &  0 & 0 & 0 & 0 & 0 & 1 & 0 & 0 & 1 & 0 & 0\\\\\n",
       "\tSOX9 & 0 & 0 &  0 & 0 & 0 & 0 & 0 & 1 & 0 & 0 & 0 & 0 & 0\\\\\n",
       "\tNRXN1 & 0 & 0 &  0 & 0 & 0 & 0 & 0 & 3 & 0 & 0 & 0 & 0 & 0\\\\\n",
       "\tMYH6 & 0 & 0 &  0 & 0 & 0 & 0 & 0 & 1 & 0 & 0 & 0 & 0 & 0\\\\\n",
       "\tNSD1 & 0 & 0 &  0 & 0 & 0 & 0 & 0 & 1 & 0 & 0 & 0 & 0 & 0\\\\\n",
       "\tCREBBP & 0 & 0 &  0 & 0 & 0 & 0 & 0 & 0 & 1 & 0 & 0 & 0 & 1\\\\\n",
       "\tNOTCH1 & 0 & 0 &  0 & 0 & 0 & 0 & 0 & 0 & 0 & 1 & 1 & 0 & 0\\\\\n",
       "\tCITED2 & 0 & 0 &  0 & 0 & 0 & 0 & 0 & 0 & 0 & 0 & 0 & 2 & 0\\\\\n",
       "\tCOL3A1 & 0 & 0 &  0 & 0 & 0 & 0 & 0 & 0 & 0 & 0 & 0 & 0 & 1\\\\\n",
       "\tFOXC2 & 0 & 0 &  0 & 0 & 0 & 0 & 0 & 0 & 0 & 0 & 0 & 0 & 1\\\\\n",
       "\tLRP5 & 0 & 0 &  0 & 0 & 0 & 0 & 0 & 0 & 0 & 0 & 0 & 0 & 1\\\\\n",
       "\tPKD2 & 0 & 0 &  0 & 0 & 0 & 0 & 0 & 0 & 0 & 0 & 0 & 0 & 1\\\\\n",
       "\tARID1A & 0 & 0 &  0 & 0 & 0 & 0 & 0 & 0 & 0 & 0 & 0 & 0 & 1\\\\\n",
       "\\end{tabular}\n"
      ],
      "text/markdown": [
       "\n",
       "A matrix: 26 × 13 of type dbl\n",
       "\n",
       "| <!--/--> | ACT | CA | CNS | EWS | GCT | HGG | LGG | NBL | OS | OST | RHB | STS | WLM |\n",
       "|---|---|---|---|---|---|---|---|---|---|---|---|---|---|\n",
       "| CHD7 | 0 | 0 |  0 | 0 | 1 | 0 | 1 | 0 | 0 | 0 | 1 | 0 | 0 |\n",
       "| EP300 | 1 | 0 |  0 | 0 | 0 | 0 | 0 | 0 | 0 | 0 | 0 | 0 | 0 |\n",
       "| FBN2 | 0 | 2 |  0 | 0 | 0 | 0 | 0 | 1 | 0 | 0 | 1 | 0 | 0 |\n",
       "| KMT2D | 0 | 0 |  1 | 0 | 0 | 0 | 0 | 0 | 0 | 0 | 0 | 0 | 0 |\n",
       "| RAI1 | 0 | 0 |  2 | 0 | 0 | 0 | 1 | 0 | 0 | 0 | 0 | 0 | 1 |\n",
       "| NF1 | 0 | 0 | 15 | 0 | 0 | 2 | 1 | 2 | 0 | 0 | 2 | 0 | 0 |\n",
       "| MYH7 | 0 | 0 |  1 | 0 | 0 | 0 | 0 | 0 | 3 | 0 | 0 | 0 | 1 |\n",
       "| TAB2 | 0 | 0 |  0 | 1 | 0 | 0 | 0 | 0 | 0 | 0 | 0 | 0 | 0 |\n",
       "| GATA4 | 0 | 0 |  0 | 0 | 1 | 0 | 0 | 0 | 1 | 0 | 0 | 0 | 0 |\n",
       "| TGFBR2 | 0 | 0 |  0 | 0 | 0 | 1 | 0 | 0 | 0 | 0 | 0 | 0 | 0 |\n",
       "| TBX20 | 0 | 0 |  0 | 0 | 0 | 1 | 1 | 0 | 0 | 0 | 1 | 0 | 0 |\n",
       "| GDF1 | 0 | 0 |  0 | 0 | 0 | 0 | 1 | 0 | 0 | 0 | 0 | 0 | 0 |\n",
       "| PTPN11 | 0 | 0 |  0 | 0 | 0 | 0 | 1 | 1 | 0 | 0 | 0 | 0 | 0 |\n",
       "| SMARCA4 | 0 | 0 |  0 | 0 | 0 | 0 | 0 | 1 | 0 | 0 | 1 | 0 | 0 |\n",
       "| SOX9 | 0 | 0 |  0 | 0 | 0 | 0 | 0 | 1 | 0 | 0 | 0 | 0 | 0 |\n",
       "| NRXN1 | 0 | 0 |  0 | 0 | 0 | 0 | 0 | 3 | 0 | 0 | 0 | 0 | 0 |\n",
       "| MYH6 | 0 | 0 |  0 | 0 | 0 | 0 | 0 | 1 | 0 | 0 | 0 | 0 | 0 |\n",
       "| NSD1 | 0 | 0 |  0 | 0 | 0 | 0 | 0 | 1 | 0 | 0 | 0 | 0 | 0 |\n",
       "| CREBBP | 0 | 0 |  0 | 0 | 0 | 0 | 0 | 0 | 1 | 0 | 0 | 0 | 1 |\n",
       "| NOTCH1 | 0 | 0 |  0 | 0 | 0 | 0 | 0 | 0 | 0 | 1 | 1 | 0 | 0 |\n",
       "| CITED2 | 0 | 0 |  0 | 0 | 0 | 0 | 0 | 0 | 0 | 0 | 0 | 2 | 0 |\n",
       "| COL3A1 | 0 | 0 |  0 | 0 | 0 | 0 | 0 | 0 | 0 | 0 | 0 | 0 | 1 |\n",
       "| FOXC2 | 0 | 0 |  0 | 0 | 0 | 0 | 0 | 0 | 0 | 0 | 0 | 0 | 1 |\n",
       "| LRP5 | 0 | 0 |  0 | 0 | 0 | 0 | 0 | 0 | 0 | 0 | 0 | 0 | 1 |\n",
       "| PKD2 | 0 | 0 |  0 | 0 | 0 | 0 | 0 | 0 | 0 | 0 | 0 | 0 | 1 |\n",
       "| ARID1A | 0 | 0 |  0 | 0 | 0 | 0 | 0 | 0 | 0 | 0 | 0 | 0 | 1 |\n",
       "\n"
      ],
      "text/plain": [
       "        ACT CA CNS EWS GCT HGG LGG NBL OS OST RHB STS WLM\n",
       "CHD7    0   0   0  0   1   0   1   0   0  0   1   0   0  \n",
       "EP300   1   0   0  0   0   0   0   0   0  0   0   0   0  \n",
       "FBN2    0   2   0  0   0   0   0   1   0  0   1   0   0  \n",
       "KMT2D   0   0   1  0   0   0   0   0   0  0   0   0   0  \n",
       "RAI1    0   0   2  0   0   0   1   0   0  0   0   0   1  \n",
       "NF1     0   0  15  0   0   2   1   2   0  0   2   0   0  \n",
       "MYH7    0   0   1  0   0   0   0   0   3  0   0   0   1  \n",
       "TAB2    0   0   0  1   0   0   0   0   0  0   0   0   0  \n",
       "GATA4   0   0   0  0   1   0   0   0   1  0   0   0   0  \n",
       "TGFBR2  0   0   0  0   0   1   0   0   0  0   0   0   0  \n",
       "TBX20   0   0   0  0   0   1   1   0   0  0   1   0   0  \n",
       "GDF1    0   0   0  0   0   0   1   0   0  0   0   0   0  \n",
       "PTPN11  0   0   0  0   0   0   1   1   0  0   0   0   0  \n",
       "SMARCA4 0   0   0  0   0   0   0   1   0  0   1   0   0  \n",
       "SOX9    0   0   0  0   0   0   0   1   0  0   0   0   0  \n",
       "NRXN1   0   0   0  0   0   0   0   3   0  0   0   0   0  \n",
       "MYH6    0   0   0  0   0   0   0   1   0  0   0   0   0  \n",
       "NSD1    0   0   0  0   0   0   0   1   0  0   0   0   0  \n",
       "CREBBP  0   0   0  0   0   0   0   0   1  0   0   0   1  \n",
       "NOTCH1  0   0   0  0   0   0   0   0   0  1   1   0   0  \n",
       "CITED2  0   0   0  0   0   0   0   0   0  0   0   2   0  \n",
       "COL3A1  0   0   0  0   0   0   0   0   0  0   0   0   1  \n",
       "FOXC2   0   0   0  0   0   0   0   0   0  0   0   0   1  \n",
       "LRP5    0   0   0  0   0   0   0   0   0  0   0   0   1  \n",
       "PKD2    0   0   0  0   0   0   0   0   0  0   0   0   1  \n",
       "ARID1A  0   0   0  0   0   0   0   0   0  0   0   0   1  "
      ]
     },
     "metadata": {},
     "output_type": "display_data"
    }
   ],
   "source": [
    "kmat[1:26,colnames(kmat)]"
   ]
  },
  {
   "cell_type": "code",
   "execution_count": 12,
   "metadata": {},
   "outputs": [
    {
     "data": {
      "text/html": [
       "<strong>png:</strong> 2"
      ],
      "text/latex": [
       "\\textbf{png:} 2"
      ],
      "text/markdown": [
       "**png:** 2"
      ],
      "text/plain": [
       "png \n",
       "  2 "
      ]
     },
     "metadata": {},
     "output_type": "display_data"
    },
    {
     "data": {
      "image/png": "[encoded data removed]",
      "text/plain": [
       "plot without title"
      ]
     },
     "metadata": {},
     "output_type": "display_data",
     "source": "R display func"
    }
   ],
   "source": [
    "ofp=\"../plots/CHD_monoallelic_gene_vs_tt_log_red_01.svg\"\n",
    "cols = colorRampPalette(c(\"#fff5f0\",\"#fee0d2\",\"#fcbba1\",\"#fc9272\",\"#fb6a4a\",\"#ef3b2c\",\"#cb181d\",\"#a50f15\",\"#67000d\"))(200)\n",
    "x= pheatmap(log10( kmat[1:26,colnames(kmat)]+1 ), cluster_cols = T, cluster_rows = F ,border_color = F, color =cols, angle_col=45, fontsize = 8.5, fontsize_row=8, fontsize_col = 12)\n",
    "save_pheatmap(x,ofp )"
   ]
  },
  {
   "cell_type": "code",
   "execution_count": null,
   "metadata": {},
   "outputs": [],
   "source": []
  }
 ],
 "metadata": {
  "kernelspec": {
   "display_name": "R",
   "language": "R",
   "name": "ir"
  },
  "language_info": {
   "codemirror_mode": "r",
   "file_extension": ".r",
   "mimetype": "text/x-r-source",
   "name": "R",
   "pygments_lexer": "r",
   "version": "3.5.1"
  }
 },
 "nbformat": 4,
 "nbformat_minor": 2
}
