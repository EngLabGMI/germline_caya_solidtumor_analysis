{
 "cells": [
  {
   "cell_type": "markdown",
   "metadata": {},
   "source": [
    "# Known Cancer Predisposition Genes, without autosomal recessive genes for Germ Cell Tumor\n",
    "----- \n",
    "- Date : 17th May 2019\n",
    "- using R3.5 kernal\n",
    "- on 89"
   ]
  },
  {
   "cell_type": "code",
   "execution_count": 1,
   "metadata": {},
   "outputs": [],
   "source": [
    "source(\"~/bin/da.R\")"
   ]
  },
  {
   "cell_type": "code",
   "execution_count": 2,
   "metadata": {
    "collapsed": true
   },
   "outputs": [],
   "source": [
    "suppressPackageStartupMessages({\n",
    "    library(tidyverse) \n",
    "    library(vcd)\n",
    "    library(readr)\n",
    "    library(maftools)\n",
    "    library(corrplot)\n",
    "    library(knitr)\n",
    "    library(wordcloud)\n",
    "    library(RColorBrewer)})"
   ]
  },
  {
   "cell_type": "code",
   "execution_count": 3,
   "metadata": {},
   "outputs": [
    {
     "data": {
      "text/plain": [
       "[1] ‘1.8.0’"
      ]
     },
     "metadata": {},
     "output_type": "display_data"
    }
   ],
   "source": [
    "packageVersion(\"maftools\")"
   ]
  },
  {
   "cell_type": "markdown",
   "metadata": {},
   "source": [
    "## Mutationa Data"
   ]
  },
  {
   "cell_type": "code",
   "execution_count": 4,
   "metadata": {
    "collapsed": true
   },
   "outputs": [],
   "source": [
    "file_name=\"../KCPG_Variants/data/Mutation_data_cleaned_051019.xls\""
   ]
  },
  {
   "cell_type": "code",
   "execution_count": 5,
   "metadata": {
    "collapsed": true
   },
   "outputs": [],
   "source": [
    "df= readxl::read_excel(file_name)"
   ]
  },
  {
   "cell_type": "code",
   "execution_count": 6,
   "metadata": {},
   "outputs": [
    {
     "data": {
      "text/html": [
       "<ol class=list-inline>\n",
       "\t<li>3016</li>\n",
       "\t<li>84</li>\n",
       "</ol>\n"
      ],
      "text/latex": [
       "\\begin{enumerate*}\n",
       "\\item 3016\n",
       "\\item 84\n",
       "\\end{enumerate*}\n"
      ],
      "text/markdown": [
       "1. 3016\n",
       "2. 84\n",
       "\n",
       "\n"
      ],
      "text/plain": [
       "[1] 3016   84"
      ]
     },
     "metadata": {},
     "output_type": "display_data"
    }
   ],
   "source": [
    "df %>% dim"
   ]
  },
  {
   "cell_type": "code",
   "execution_count": 7,
   "metadata": {},
   "outputs": [
    {
     "data": {
      "text/plain": [
       "\n",
       "\n",
       "Var1     Freq\n",
       "------  -----\n",
       "CNS       613\n",
       "WLM       405\n",
       "NBL       343\n",
       "RHB       259\n",
       "OS        241\n",
       "HGG       229\n",
       "RB        221\n",
       "EWS       192\n",
       "STS       177\n",
       "GCT       139\n",
       "ACT        79\n",
       "LGG        52\n",
       "CA         35\n",
       "OST        18\n",
       "RCC         5\n",
       "GICT        2\n",
       "LMPRT       2\n",
       "PGL         2\n",
       "BCC         1\n",
       "NM          1"
      ]
     },
     "metadata": {},
     "output_type": "display_data"
    }
   ],
   "source": [
    "knitr::kable( sort( table(df$Tumor_types ),decreasing = T), format=\"pandoc\")"
   ]
  },
  {
   "cell_type": "code",
   "execution_count": 8,
   "metadata": {},
   "outputs": [
    {
     "data": {
      "text/html": [
       "<table>\n",
       "<tbody>\n",
       "\t<tr><th scope=row>known</th><td> 290</td></tr>\n",
       "\t<tr><th scope=row>suggesting</th><td>2726</td></tr>\n",
       "</tbody>\n",
       "</table>\n"
      ],
      "text/latex": [
       "\\begin{tabular}{r|l}\n",
       "\tknown &  290\\\\\n",
       "\tsuggesting & 2726\\\\\n",
       "\\end{tabular}\n"
      ],
      "text/markdown": [
       "\n",
       "| known |  290 |\n",
       "| suggesting | 2726 |\n",
       "\n"
      ],
      "text/plain": [
       "           [,1]\n",
       "known       290\n",
       "suggesting 2726"
      ]
     },
     "metadata": {},
     "output_type": "display_data"
    }
   ],
   "source": [
    "cbind( df$Known_Cancer_Predisposition_Genes %>% table )"
   ]
  },
  {
   "cell_type": "code",
   "execution_count": 9,
   "metadata": {},
   "outputs": [],
   "source": [
    "df = df[df$Known_Cancer_Predisposition_Genes == 'known',]\n",
    "df =droplevels(df)"
   ]
  },
  {
   "cell_type": "code",
   "execution_count": 10,
   "metadata": {},
   "outputs": [
    {
     "data": {
      "text/html": [
       "<ol class=list-inline>\n",
       "\t<li>290</li>\n",
       "\t<li>84</li>\n",
       "</ol>\n"
      ],
      "text/latex": [
       "\\begin{enumerate*}\n",
       "\\item 290\n",
       "\\item 84\n",
       "\\end{enumerate*}\n"
      ],
      "text/markdown": [
       "1. 290\n",
       "2. 84\n",
       "\n",
       "\n"
      ],
      "text/plain": [
       "[1] 290  84"
      ]
     },
     "metadata": {},
     "output_type": "display_data"
    }
   ],
   "source": [
    "df%>% dim"
   ]
  },
  {
   "cell_type": "code",
   "execution_count": 11,
   "metadata": {},
   "outputs": [
    {
     "data": {
      "text/plain": [
       ".\n",
       "   AD    AR AR/AD   XLD \n",
       "  153    92    43     2 "
      ]
     },
     "metadata": {},
     "output_type": "display_data"
    }
   ],
   "source": [
    "df$Mode_of_Inheritance_abb %>% table"
   ]
  },
  {
   "cell_type": "code",
   "execution_count": 12,
   "metadata": {},
   "outputs": [
    {
     "data": {
      "text/plain": [
       "       \n",
       "        Het Hom\n",
       "  AD    153   0\n",
       "  AR     92   0\n",
       "  AR/AD  43   0\n",
       "  XLD     1   1"
      ]
     },
     "metadata": {},
     "output_type": "display_data"
    }
   ],
   "source": [
    "table(df$Mode_of_Inheritance_abb , df$genotype)"
   ]
  },
  {
   "cell_type": "markdown",
   "metadata": {},
   "source": [
    "## Remove AR"
   ]
  },
  {
   "cell_type": "code",
   "execution_count": 13,
   "metadata": {},
   "outputs": [],
   "source": [
    "df = df[df$Mode_of_Inheritance_abb != 'AR',]\n",
    "df = droplevels(df)"
   ]
  },
  {
   "cell_type": "code",
   "execution_count": 14,
   "metadata": {},
   "outputs": [
    {
     "data": {
      "text/html": [
       "<ol class=list-inline>\n",
       "\t<li>198</li>\n",
       "\t<li>84</li>\n",
       "</ol>\n"
      ],
      "text/latex": [
       "\\begin{enumerate*}\n",
       "\\item 198\n",
       "\\item 84\n",
       "\\end{enumerate*}\n"
      ],
      "text/markdown": [
       "1. 198\n",
       "2. 84\n",
       "\n",
       "\n"
      ],
      "text/plain": [
       "[1] 198  84"
      ]
     },
     "metadata": {},
     "output_type": "display_data"
    }
   ],
   "source": [
    "df %>% dim"
   ]
  },
  {
   "cell_type": "code",
   "execution_count": 15,
   "metadata": {},
   "outputs": [
    {
     "data": {
      "text/plain": [
       ".\n",
       "   AD AR/AD   XLD \n",
       "  153    43     2 "
      ]
     },
     "metadata": {},
     "output_type": "display_data"
    }
   ],
   "source": [
    "# sanity check\n",
    "df$Mode_of_Inheritance_abb %>% table"
   ]
  },
  {
   "cell_type": "code",
   "execution_count": 16,
   "metadata": {},
   "outputs": [
    {
     "data": {
      "text/html": [
       "182"
      ],
      "text/latex": [
       "182"
      ],
      "text/markdown": [
       "182"
      ],
      "text/plain": [
       "[1] 182"
      ]
     },
     "metadata": {},
     "output_type": "display_data"
    }
   ],
   "source": [
    "len( unique(df$Tumor_Sample_Barcode) )"
   ]
  },
  {
   "cell_type": "code",
   "execution_count": 17,
   "metadata": {},
   "outputs": [
    {
     "data": {
      "text/html": [
       "54"
      ],
      "text/latex": [
       "54"
      ],
      "text/markdown": [
       "54"
      ],
      "text/plain": [
       "[1] 54"
      ]
     },
     "metadata": {},
     "output_type": "display_data"
    }
   ],
   "source": [
    "len( unique(df$Hugo_Symbol) )"
   ]
  },
  {
   "cell_type": "markdown",
   "metadata": {},
   "source": [
    "## EDA Clinical_Data"
   ]
  },
  {
   "cell_type": "code",
   "execution_count": 18,
   "metadata": {
    "collapsed": true
   },
   "outputs": [],
   "source": [
    "file_name_clinical = \"../KCPG_Variants/data/Combined_Clinical_Data_03.xlsx\""
   ]
  },
  {
   "cell_type": "code",
   "execution_count": 19,
   "metadata": {
    "collapsed": true
   },
   "outputs": [],
   "source": [
    "df2 = readxl::read_excel( file_name_clinical )"
   ]
  },
  {
   "cell_type": "code",
   "execution_count": 20,
   "metadata": {},
   "outputs": [
    {
     "data": {
      "text/html": [
       "<ol class=list-inline>\n",
       "\t<li>'Tumor_Sample_Barcode'</li>\n",
       "\t<li>'Tumor_type'</li>\n",
       "\t<li>'Tumor_type2'</li>\n",
       "\t<li>'Age_of_Onset'</li>\n",
       "\t<li>'Sex'</li>\n",
       "\t<li>'Age_group'</li>\n",
       "\t<li>'sample_type'</li>\n",
       "\t<li>'sequencing_type'</li>\n",
       "\t<li>'Access_unit'</li>\n",
       "\t<li>'Status'</li>\n",
       "\t<li>'Ethnicity'</li>\n",
       "\t<li>'Race'</li>\n",
       "</ol>\n"
      ],
      "text/latex": [
       "\\begin{enumerate*}\n",
       "\\item 'Tumor\\_Sample\\_Barcode'\n",
       "\\item 'Tumor\\_type'\n",
       "\\item 'Tumor\\_type2'\n",
       "\\item 'Age\\_of\\_Onset'\n",
       "\\item 'Sex'\n",
       "\\item 'Age\\_group'\n",
       "\\item 'sample\\_type'\n",
       "\\item 'sequencing\\_type'\n",
       "\\item 'Access\\_unit'\n",
       "\\item 'Status'\n",
       "\\item 'Ethnicity'\n",
       "\\item 'Race'\n",
       "\\end{enumerate*}\n"
      ],
      "text/markdown": [
       "1. 'Tumor_Sample_Barcode'\n",
       "2. 'Tumor_type'\n",
       "3. 'Tumor_type2'\n",
       "4. 'Age_of_Onset'\n",
       "5. 'Sex'\n",
       "6. 'Age_group'\n",
       "7. 'sample_type'\n",
       "8. 'sequencing_type'\n",
       "9. 'Access_unit'\n",
       "10. 'Status'\n",
       "11. 'Ethnicity'\n",
       "12. 'Race'\n",
       "\n",
       "\n"
      ],
      "text/plain": [
       " [1] \"Tumor_Sample_Barcode\" \"Tumor_type\"           \"Tumor_type2\"         \n",
       " [4] \"Age_of_Onset\"         \"Sex\"                  \"Age_group\"           \n",
       " [7] \"sample_type\"          \"sequencing_type\"      \"Access_unit\"         \n",
       "[10] \"Status\"               \"Ethnicity\"            \"Race\"                "
      ]
     },
     "metadata": {},
     "output_type": "display_data"
    }
   ],
   "source": [
    "colnames(df2)"
   ]
  },
  {
   "cell_type": "code",
   "execution_count": 21,
   "metadata": {},
   "outputs": [
    {
     "data": {
      "text/plain": [
       "                                      \n",
       "                                       CCF PCGP SJLIFE\n",
       "  Adrenocortical Carcinoma               1   19      2\n",
       "  Basal Cell Carcinoma                   0    0      1\n",
       "  Carcinoma                              0    0     14\n",
       "  Central Nervous System                 1    0    322\n",
       "  Ewing's Sarcoma                        6    0     89\n",
       "  Germ Cell Tumor                        1    0     73\n",
       "  Giant Cell Tumor                       0    0      3\n",
       "  High Grade Glioma                      5   75      0\n",
       "  Low Grade Glioma                       2   15      7\n",
       "  Low Malignant Potential Renal Tumors   2    0      0\n",
       "  Neuroblastoma                          3   48    139\n",
       "  Non-Malignant Tumor                    1    0      3\n",
       "  Osteosarcoma                          14    2    113\n",
       "  Other Solid Tumor                      0    0     10\n",
       "  Paraganglioma                          0    0      1\n",
       "  Renal Cell Carcinoma                   1    0      2\n",
       "  Retinoblastoma                         0    0     98\n",
       "  Rhabdomyosarcoma                       3   29    102\n",
       "  Soft Tissue Sarcoma                    8    0     85\n",
       "  Wilms' tumor                           2    0    205"
      ]
     },
     "metadata": {},
     "output_type": "display_data"
    }
   ],
   "source": [
    "table(df2$Tumor_type , df2$Access_unit )"
   ]
  },
  {
   "cell_type": "code",
   "execution_count": 22,
   "metadata": {},
   "outputs": [
    {
     "data": {
      "text/html": [
       "<table>\n",
       "<thead><tr><th scope=col>f</th><th scope=col>n</th></tr></thead>\n",
       "<tbody>\n",
       "\t<tr><td>Central Nervous System              </td><td>323                                 </td></tr>\n",
       "\t<tr><td>Wilms' tumor                        </td><td>207                                 </td></tr>\n",
       "\t<tr><td>Neuroblastoma                       </td><td>190                                 </td></tr>\n",
       "\t<tr><td>Rhabdomyosarcoma                    </td><td>134                                 </td></tr>\n",
       "\t<tr><td>Osteosarcoma                        </td><td>129                                 </td></tr>\n",
       "\t<tr><td>Retinoblastoma                      </td><td> 98                                 </td></tr>\n",
       "\t<tr><td>Ewing's Sarcoma                     </td><td> 95                                 </td></tr>\n",
       "\t<tr><td>Soft Tissue Sarcoma                 </td><td> 93                                 </td></tr>\n",
       "\t<tr><td>High Grade Glioma                   </td><td> 80                                 </td></tr>\n",
       "\t<tr><td>Germ Cell Tumor                     </td><td> 74                                 </td></tr>\n",
       "\t<tr><td>Low Grade Glioma                    </td><td> 24                                 </td></tr>\n",
       "\t<tr><td>Adrenocortical Carcinoma            </td><td> 22                                 </td></tr>\n",
       "\t<tr><td>Carcinoma                           </td><td> 14                                 </td></tr>\n",
       "\t<tr><td>Other Solid Tumor                   </td><td> 10                                 </td></tr>\n",
       "\t<tr><td>Non-Malignant Tumor                 </td><td>  4                                 </td></tr>\n",
       "\t<tr><td>Giant Cell Tumor                    </td><td>  3                                 </td></tr>\n",
       "\t<tr><td>Renal Cell Carcinoma                </td><td>  3                                 </td></tr>\n",
       "\t<tr><td>Low Malignant Potential Renal Tumors</td><td>  2                                 </td></tr>\n",
       "\t<tr><td>Basal Cell Carcinoma                </td><td>  1                                 </td></tr>\n",
       "\t<tr><td>Paraganglioma                       </td><td>  1                                 </td></tr>\n",
       "</tbody>\n",
       "</table>\n"
      ],
      "text/latex": [
       "\\begin{tabular}{r|ll}\n",
       " f & n\\\\\n",
       "\\hline\n",
       "\t Central Nervous System               & 323                                 \\\\\n",
       "\t Wilms' tumor                         & 207                                 \\\\\n",
       "\t Neuroblastoma                        & 190                                 \\\\\n",
       "\t Rhabdomyosarcoma                     & 134                                 \\\\\n",
       "\t Osteosarcoma                         & 129                                 \\\\\n",
       "\t Retinoblastoma                       &  98                                 \\\\\n",
       "\t Ewing's Sarcoma                      &  95                                 \\\\\n",
       "\t Soft Tissue Sarcoma                  &  93                                 \\\\\n",
       "\t High Grade Glioma                    &  80                                 \\\\\n",
       "\t Germ Cell Tumor                      &  74                                 \\\\\n",
       "\t Low Grade Glioma                     &  24                                 \\\\\n",
       "\t Adrenocortical Carcinoma             &  22                                 \\\\\n",
       "\t Carcinoma                            &  14                                 \\\\\n",
       "\t Other Solid Tumor                    &  10                                 \\\\\n",
       "\t Non-Malignant Tumor                  &   4                                 \\\\\n",
       "\t Giant Cell Tumor                     &   3                                 \\\\\n",
       "\t Renal Cell Carcinoma                 &   3                                 \\\\\n",
       "\t Low Malignant Potential Renal Tumors &   2                                 \\\\\n",
       "\t Basal Cell Carcinoma                 &   1                                 \\\\\n",
       "\t Paraganglioma                        &   1                                 \\\\\n",
       "\\end{tabular}\n"
      ],
      "text/markdown": [
       "\n",
       "| f | n |\n",
       "|---|---|\n",
       "| Central Nervous System               | 323                                  |\n",
       "| Wilms' tumor                         | 207                                  |\n",
       "| Neuroblastoma                        | 190                                  |\n",
       "| Rhabdomyosarcoma                     | 134                                  |\n",
       "| Osteosarcoma                         | 129                                  |\n",
       "| Retinoblastoma                       |  98                                  |\n",
       "| Ewing's Sarcoma                      |  95                                  |\n",
       "| Soft Tissue Sarcoma                  |  93                                  |\n",
       "| High Grade Glioma                    |  80                                  |\n",
       "| Germ Cell Tumor                      |  74                                  |\n",
       "| Low Grade Glioma                     |  24                                  |\n",
       "| Adrenocortical Carcinoma             |  22                                  |\n",
       "| Carcinoma                            |  14                                  |\n",
       "| Other Solid Tumor                    |  10                                  |\n",
       "| Non-Malignant Tumor                  |   4                                  |\n",
       "| Giant Cell Tumor                     |   3                                  |\n",
       "| Renal Cell Carcinoma                 |   3                                  |\n",
       "| Low Malignant Potential Renal Tumors |   2                                  |\n",
       "| Basal Cell Carcinoma                 |   1                                  |\n",
       "| Paraganglioma                        |   1                                  |\n",
       "\n"
      ],
      "text/plain": [
       "   f                                    n  \n",
       "1  Central Nervous System               323\n",
       "2  Wilms' tumor                         207\n",
       "3  Neuroblastoma                        190\n",
       "4  Rhabdomyosarcoma                     134\n",
       "5  Osteosarcoma                         129\n",
       "6  Retinoblastoma                        98\n",
       "7  Ewing's Sarcoma                       95\n",
       "8  Soft Tissue Sarcoma                   93\n",
       "9  High Grade Glioma                     80\n",
       "10 Germ Cell Tumor                       74\n",
       "11 Low Grade Glioma                      24\n",
       "12 Adrenocortical Carcinoma              22\n",
       "13 Carcinoma                             14\n",
       "14 Other Solid Tumor                     10\n",
       "15 Non-Malignant Tumor                    4\n",
       "16 Giant Cell Tumor                       3\n",
       "17 Renal Cell Carcinoma                   3\n",
       "18 Low Malignant Potential Renal Tumors   2\n",
       "19 Basal Cell Carcinoma                   1\n",
       "20 Paraganglioma                          1"
      ]
     },
     "metadata": {},
     "output_type": "display_data"
    }
   ],
   "source": [
    "fct_count( df2$Tumor_type , sort = T)"
   ]
  },
  {
   "cell_type": "code",
   "execution_count": 23,
   "metadata": {},
   "outputs": [
    {
     "data": {
      "text/plain": [
       "                                      \n",
       "                                       ACT BCC  CA CNS EWS GCT GICT HGG LGG\n",
       "  Adrenocortical Carcinoma              22   0   0   0   0   0    0   0   0\n",
       "  Basal Cell Carcinoma                   0   1   0   0   0   0    0   0   0\n",
       "  Carcinoma                              0   0  14   0   0   0    0   0   0\n",
       "  Central Nervous System                 0   0   0 323   0   0    0   0   0\n",
       "  Ewing's Sarcoma                        0   0   0   0  95   0    0   0   0\n",
       "  Germ Cell Tumor                        0   0   0   0   0  74    0   0   0\n",
       "  Giant Cell Tumor                       0   0   0   0   0   0    3   0   0\n",
       "  High Grade Glioma                      0   0   0   0   0   0    0  80   0\n",
       "  Low Grade Glioma                       0   0   0   0   0   0    0   0  24\n",
       "  Low Malignant Potential Renal Tumors   0   0   0   0   0   0    0   0   0\n",
       "  Neuroblastoma                          0   0   0   0   0   0    0   0   0\n",
       "  Non-Malignant Tumor                    0   0   0   0   0   0    0   0   0\n",
       "  Osteosarcoma                           0   0   0   0   0   0    0   0   0\n",
       "  Other Solid Tumor                      0   0   0   0   0   0    0   0   0\n",
       "  Paraganglioma                          0   0   0   0   0   0    0   0   0\n",
       "  Renal Cell Carcinoma                   0   0   0   0   0   0    0   0   0\n",
       "  Retinoblastoma                         0   0   0   0   0   0    0   0   0\n",
       "  Rhabdomyosarcoma                       0   0   0   0   0   0    0   0   0\n",
       "  Soft Tissue Sarcoma                    0   0   0   0   0   0    0   0   0\n",
       "  Wilms' tumor                           0   0   0   0   0   0    0   0   0\n",
       "                                      \n",
       "                                       LMPRT NBL  NM  OS OST PGL  RB RCC RHB\n",
       "  Adrenocortical Carcinoma                 0   0   0   0   0   0   0   0   0\n",
       "  Basal Cell Carcinoma                     0   0   0   0   0   0   0   0   0\n",
       "  Carcinoma                                0   0   0   0   0   0   0   0   0\n",
       "  Central Nervous System                   0   0   0   0   0   0   0   0   0\n",
       "  Ewing's Sarcoma                          0   0   0   0   0   0   0   0   0\n",
       "  Germ Cell Tumor                          0   0   0   0   0   0   0   0   0\n",
       "  Giant Cell Tumor                         0   0   0   0   0   0   0   0   0\n",
       "  High Grade Glioma                        0   0   0   0   0   0   0   0   0\n",
       "  Low Grade Glioma                         0   0   0   0   0   0   0   0   0\n",
       "  Low Malignant Potential Renal Tumors     2   0   0   0   0   0   0   0   0\n",
       "  Neuroblastoma                            0 190   0   0   0   0   0   0   0\n",
       "  Non-Malignant Tumor                      0   0   4   0   0   0   0   0   0\n",
       "  Osteosarcoma                             0   0   0 129   0   0   0   0   0\n",
       "  Other Solid Tumor                        0   0   0   0  10   0   0   0   0\n",
       "  Paraganglioma                            0   0   0   0   0   1   0   0   0\n",
       "  Renal Cell Carcinoma                     0   0   0   0   0   0   0   3   0\n",
       "  Retinoblastoma                           0   0   0   0   0   0  98   0   0\n",
       "  Rhabdomyosarcoma                         0   0   0   0   0   0   0   0 134\n",
       "  Soft Tissue Sarcoma                      0   0   0   0   0   0   0   0   0\n",
       "  Wilms' tumor                             0   0   0   0   0   0   0   0   0\n",
       "                                      \n",
       "                                       STS WLM\n",
       "  Adrenocortical Carcinoma               0   0\n",
       "  Basal Cell Carcinoma                   0   0\n",
       "  Carcinoma                              0   0\n",
       "  Central Nervous System                 0   0\n",
       "  Ewing's Sarcoma                        0   0\n",
       "  Germ Cell Tumor                        0   0\n",
       "  Giant Cell Tumor                       0   0\n",
       "  High Grade Glioma                      0   0\n",
       "  Low Grade Glioma                       0   0\n",
       "  Low Malignant Potential Renal Tumors   0   0\n",
       "  Neuroblastoma                          0   0\n",
       "  Non-Malignant Tumor                    0   0\n",
       "  Osteosarcoma                           0   0\n",
       "  Other Solid Tumor                      0   0\n",
       "  Paraganglioma                          0   0\n",
       "  Renal Cell Carcinoma                   0   0\n",
       "  Retinoblastoma                         0   0\n",
       "  Rhabdomyosarcoma                       0   0\n",
       "  Soft Tissue Sarcoma                   93   0\n",
       "  Wilms' tumor                           0 207"
      ]
     },
     "metadata": {},
     "output_type": "display_data"
    }
   ],
   "source": [
    "## sanity check\n",
    "table(df2$Tumor_type , df2$Tumor_type2 )"
   ]
  },
  {
   "cell_type": "code",
   "execution_count": 24,
   "metadata": {},
   "outputs": [
    {
     "data": {
      "text/html": [
       "<ol class=list-inline>\n",
       "\t<li>198</li>\n",
       "\t<li>84</li>\n",
       "</ol>\n"
      ],
      "text/latex": [
       "\\begin{enumerate*}\n",
       "\\item 198\n",
       "\\item 84\n",
       "\\end{enumerate*}\n"
      ],
      "text/markdown": [
       "1. 198\n",
       "2. 84\n",
       "\n",
       "\n"
      ],
      "text/plain": [
       "[1] 198  84"
      ]
     },
     "metadata": {},
     "output_type": "display_data"
    },
    {
     "data": {
      "text/html": [
       "<ol class=list-inline>\n",
       "\t<li>1507</li>\n",
       "\t<li>12</li>\n",
       "</ol>\n"
      ],
      "text/latex": [
       "\\begin{enumerate*}\n",
       "\\item 1507\n",
       "\\item 12\n",
       "\\end{enumerate*}\n"
      ],
      "text/markdown": [
       "1. 1507\n",
       "2. 12\n",
       "\n",
       "\n"
      ],
      "text/plain": [
       "[1] 1507   12"
      ]
     },
     "metadata": {},
     "output_type": "display_data"
    }
   ],
   "source": [
    "## sanity check\n",
    "df %>% dim\n",
    "df2 %>% dim"
   ]
  },
  {
   "cell_type": "code",
   "execution_count": 25,
   "metadata": {},
   "outputs": [],
   "source": [
    "ttype =\"Germ Cell Tumor\""
   ]
  },
  {
   "cell_type": "code",
   "execution_count": 26,
   "metadata": {},
   "outputs": [],
   "source": [
    "df2_ss = df2[df2$Tumor_type == ttype,]\n",
    "ss =df$Tumor_Sample_Barcode %in% intersect( df$Tumor_Sample_Barcode, unique( df2_ss$Tumor_Sample_Barcode ))\n",
    "df_ss = df[ ss, ]\n",
    "df_ss = droplevels(df_ss)\n",
    "df2_ss = droplevels(df2_ss)"
   ]
  },
  {
   "cell_type": "code",
   "execution_count": 27,
   "metadata": {},
   "outputs": [],
   "source": [
    "df_ss$Hugo_Symbol=as.character(df_ss$Hugo_Symbol) "
   ]
  },
  {
   "cell_type": "code",
   "execution_count": 28,
   "metadata": {},
   "outputs": [
    {
     "data": {
      "text/plain": [
       "                 \n",
       "                  GCT\n",
       "  Germ Cell Tumor  74"
      ]
     },
     "metadata": {},
     "output_type": "display_data"
    }
   ],
   "source": [
    "table(df2_ss$Tumor_type , df2_ss$Tumor_type2 )"
   ]
  },
  {
   "cell_type": "code",
   "execution_count": 29,
   "metadata": {},
   "outputs": [
    {
     "data": {
      "text/html": [],
      "text/latex": [],
      "text/markdown": [],
      "text/plain": [
       "character(0)"
      ]
     },
     "metadata": {},
     "output_type": "display_data"
    }
   ],
   "source": [
    "setdiff( df_ss$Tumor_Sample_Barcode, df2_ss$Tumor_Sample_Barcode)"
   ]
  },
  {
   "cell_type": "code",
   "execution_count": 30,
   "metadata": {},
   "outputs": [
    {
     "data": {
      "text/html": [
       "<table>\n",
       "<tbody>\n",
       "\t<tr><td> 5</td><td>74</td></tr>\n",
       "\t<tr><td>84</td><td>12</td></tr>\n",
       "</tbody>\n",
       "</table>\n"
      ],
      "text/latex": [
       "\\begin{tabular}{ll}\n",
       "\t  5 & 74\\\\\n",
       "\t 84 & 12\\\\\n",
       "\\end{tabular}\n"
      ],
      "text/markdown": [
       "\n",
       "|  5 | 74 |\n",
       "| 84 | 12 |\n",
       "\n"
      ],
      "text/plain": [
       "     [,1] [,2]\n",
       "[1,]  5   74  \n",
       "[2,] 84   12  "
      ]
     },
     "metadata": {},
     "output_type": "display_data"
    }
   ],
   "source": [
    "cbind(dim(df_ss), dim(df2_ss))"
   ]
  },
  {
   "cell_type": "markdown",
   "metadata": {},
   "source": [
    "## Creating a MAF object"
   ]
  },
  {
   "cell_type": "code",
   "execution_count": 31,
   "metadata": {
    "scrolled": false
   },
   "outputs": [
    {
     "name": "stderr",
     "output_type": "stream",
     "text": [
      "Summarizing..\n"
     ]
    },
    {
     "name": "stdout",
     "output_type": "stream",
     "text": [
      "                  ID summary Mean Median\n",
      "1:        NCBI_Build      38   NA     NA\n",
      "2:            Center      NA   NA     NA\n",
      "3:           Samples       4   NA     NA\n",
      "4:            nGenes       5   NA     NA\n",
      "5:   Frame_Shift_Del       2 0.50    0.5\n",
      "6: Missense_Mutation       3 0.75    1.0\n",
      "7:             total       5 1.25    1.0\n"
     ]
    },
    {
     "name": "stderr",
     "output_type": "stream",
     "text": [
      "Gene Summary..\n"
     ]
    },
    {
     "name": "stdout",
     "output_type": "stream",
     "text": [
      "   Hugo_Symbol Frame_Shift_Del Missense_Mutation total MutatedSamples\n",
      "1:      BMPR1A               0                 1     1              1\n",
      "2:       CHEK2               1                 0     1              1\n",
      "3:         MPL               0                 1     1              1\n",
      "4:       PALB2               1                 0     1              1\n",
      "5:        POLE               0                 1     1              1\n",
      "   AlteredSamples\n",
      "1:              1\n",
      "2:              1\n",
      "3:              1\n",
      "4:              1\n",
      "5:              1\n"
     ]
    },
    {
     "name": "stderr",
     "output_type": "stream",
     "text": [
      "Checking clinical data..\n",
      "Done !\n"
     ]
    }
   ],
   "source": [
    "dfx = read.maf(maf=df_ss,clinicalData = df2_ss, isTCGA = FALSE, verbose = T, removeDuplicatedVariants = FALSE, useAll = TRUE )"
   ]
  },
  {
   "cell_type": "code",
   "execution_count": 32,
   "metadata": {},
   "outputs": [
    {
     "data": {
      "text/html": [
       "<table>\n",
       "<thead><tr><th scope=col>ID</th><th scope=col>summary</th><th scope=col>Mean</th><th scope=col>Median</th></tr></thead>\n",
       "<tbody>\n",
       "\t<tr><td>NCBI_Build       </td><td>38               </td><td>  NA             </td><td> NA              </td></tr>\n",
       "\t<tr><td>Center           </td><td>NA               </td><td>  NA             </td><td> NA              </td></tr>\n",
       "\t<tr><td>Samples          </td><td> 4               </td><td>  NA             </td><td> NA              </td></tr>\n",
       "\t<tr><td>nGenes           </td><td> 5               </td><td>  NA             </td><td> NA              </td></tr>\n",
       "\t<tr><td>Frame_Shift_Del  </td><td> 2               </td><td>0.50             </td><td>0.5              </td></tr>\n",
       "\t<tr><td>Missense_Mutation</td><td> 3               </td><td>0.75             </td><td>1.0              </td></tr>\n",
       "\t<tr><td>total            </td><td> 5               </td><td>1.25             </td><td>1.0              </td></tr>\n",
       "</tbody>\n",
       "</table>\n"
      ],
      "text/latex": [
       "\\begin{tabular}{r|llll}\n",
       " ID & summary & Mean & Median\\\\\n",
       "\\hline\n",
       "\t NCBI\\_Build        & 38                  &   NA                &  NA                \\\\\n",
       "\t Center            & NA                &   NA              &  NA              \\\\\n",
       "\t Samples           &  4                &   NA              &  NA              \\\\\n",
       "\t nGenes            &  5                &   NA              &  NA              \\\\\n",
       "\t Frame\\_Shift\\_Del   &  2                    & 0.50                  & 0.5                  \\\\\n",
       "\t Missense\\_Mutation &  3                  & 0.75                & 1.0                \\\\\n",
       "\t total             &  5                & 1.25              & 1.0              \\\\\n",
       "\\end{tabular}\n"
      ],
      "text/markdown": [
       "\n",
       "| ID | summary | Mean | Median |\n",
       "|---|---|---|---|\n",
       "| NCBI_Build        | 38                |   NA              |  NA               |\n",
       "| Center            | NA                |   NA              |  NA               |\n",
       "| Samples           |  4                |   NA              |  NA               |\n",
       "| nGenes            |  5                |   NA              |  NA               |\n",
       "| Frame_Shift_Del   |  2                | 0.50              | 0.5               |\n",
       "| Missense_Mutation |  3                | 0.75              | 1.0               |\n",
       "| total             |  5                | 1.25              | 1.0               |\n",
       "\n"
      ],
      "text/plain": [
       "  ID                summary Mean Median\n",
       "1 NCBI_Build        38        NA  NA   \n",
       "2 Center            NA        NA  NA   \n",
       "3 Samples            4        NA  NA   \n",
       "4 nGenes             5        NA  NA   \n",
       "5 Frame_Shift_Del    2      0.50 0.5   \n",
       "6 Missense_Mutation  3      0.75 1.0   \n",
       "7 total              5      1.25 1.0   "
      ]
     },
     "metadata": {},
     "output_type": "display_data"
    }
   ],
   "source": [
    "dfx@summary"
   ]
  },
  {
   "cell_type": "code",
   "execution_count": 33,
   "metadata": {},
   "outputs": [
    {
     "data": {
      "text/html": [
       "<table>\n",
       "<thead><tr><th scope=col>Hugo_Symbol</th><th scope=col>Frame_Shift_Del</th><th scope=col>Missense_Mutation</th><th scope=col>total</th><th scope=col>MutatedSamples</th><th scope=col>AlteredSamples</th></tr></thead>\n",
       "<tbody>\n",
       "\t<tr><td>BMPR1A</td><td>0     </td><td>1     </td><td>1     </td><td>1     </td><td>1     </td></tr>\n",
       "\t<tr><td>CHEK2 </td><td>1     </td><td>0     </td><td>1     </td><td>1     </td><td>1     </td></tr>\n",
       "\t<tr><td>MPL   </td><td>0     </td><td>1     </td><td>1     </td><td>1     </td><td>1     </td></tr>\n",
       "\t<tr><td>PALB2 </td><td>1     </td><td>0     </td><td>1     </td><td>1     </td><td>1     </td></tr>\n",
       "\t<tr><td>POLE  </td><td>0     </td><td>1     </td><td>1     </td><td>1     </td><td>1     </td></tr>\n",
       "</tbody>\n",
       "</table>\n"
      ],
      "text/latex": [
       "\\begin{tabular}{r|llllll}\n",
       " Hugo\\_Symbol & Frame\\_Shift\\_Del & Missense\\_Mutation & total & MutatedSamples & AlteredSamples\\\\\n",
       "\\hline\n",
       "\t BMPR1A & 0      & 1      & 1      & 1      & 1     \\\\\n",
       "\t CHEK2  & 1      & 0      & 1      & 1      & 1     \\\\\n",
       "\t MPL    & 0      & 1      & 1      & 1      & 1     \\\\\n",
       "\t PALB2  & 1      & 0      & 1      & 1      & 1     \\\\\n",
       "\t POLE   & 0      & 1      & 1      & 1      & 1     \\\\\n",
       "\\end{tabular}\n"
      ],
      "text/markdown": [
       "\n",
       "| Hugo_Symbol | Frame_Shift_Del | Missense_Mutation | total | MutatedSamples | AlteredSamples |\n",
       "|---|---|---|---|---|---|\n",
       "| BMPR1A | 0      | 1      | 1      | 1      | 1      |\n",
       "| CHEK2  | 1      | 0      | 1      | 1      | 1      |\n",
       "| MPL    | 0      | 1      | 1      | 1      | 1      |\n",
       "| PALB2  | 1      | 0      | 1      | 1      | 1      |\n",
       "| POLE   | 0      | 1      | 1      | 1      | 1      |\n",
       "\n"
      ],
      "text/plain": [
       "  Hugo_Symbol Frame_Shift_Del Missense_Mutation total MutatedSamples\n",
       "1 BMPR1A      0               1                 1     1             \n",
       "2 CHEK2       1               0                 1     1             \n",
       "3 MPL         0               1                 1     1             \n",
       "4 PALB2       1               0                 1     1             \n",
       "5 POLE        0               1                 1     1             \n",
       "  AlteredSamples\n",
       "1 1             \n",
       "2 1             \n",
       "3 1             \n",
       "4 1             \n",
       "5 1             "
      ]
     },
     "metadata": {},
     "output_type": "display_data"
    }
   ],
   "source": [
    "dfx@gene.summary %>% head"
   ]
  },
  {
   "cell_type": "markdown",
   "metadata": {},
   "source": [
    "# Number of unique genes after making MAF file"
   ]
  },
  {
   "cell_type": "code",
   "execution_count": 34,
   "metadata": {},
   "outputs": [
    {
     "data": {
      "text/html": [
       "<ol class=list-inline>\n",
       "\t<li>5</li>\n",
       "\t<li>6</li>\n",
       "</ol>\n"
      ],
      "text/latex": [
       "\\begin{enumerate*}\n",
       "\\item 5\n",
       "\\item 6\n",
       "\\end{enumerate*}\n"
      ],
      "text/markdown": [
       "1. 5\n",
       "2. 6\n",
       "\n",
       "\n"
      ],
      "text/plain": [
       "[1] 5 6"
      ]
     },
     "metadata": {},
     "output_type": "display_data"
    }
   ],
   "source": [
    "dfx@gene.summary %>% dim"
   ]
  },
  {
   "cell_type": "markdown",
   "metadata": {},
   "source": [
    "### Samples with top variants"
   ]
  },
  {
   "cell_type": "code",
   "execution_count": 35,
   "metadata": {},
   "outputs": [
    {
     "data": {
      "text/plain": [
       "\n",
       "\n",
       "Tumor_Sample_Barcode    DEL   SNP   total\n",
       "---------------------  ----  ----  ------\n",
       "SJGCT018639               1     1       2\n",
       "SJGCT018635               0     1       1\n",
       "SJGCT019228               1     0       1\n",
       "SJGCT042505               0     1       1"
      ]
     },
     "metadata": {},
     "output_type": "display_data"
    }
   ],
   "source": [
    "knitr::kable( dfx@variant.type.summary %>% head,format = \"pandoc\")"
   ]
  },
  {
   "cell_type": "code",
   "execution_count": 36,
   "metadata": {},
   "outputs": [
    {
     "data": {
      "text/plain": [
       "\n",
       "\n",
       "Tumor_Sample_Barcode    Variants\n",
       "---------------------  ---------\n",
       "SJGCT018639                    2\n",
       "SJGCT018635                    1\n",
       "SJGCT019228                    1\n",
       "SJGCT042505                    1"
      ]
     },
     "metadata": {},
     "output_type": "display_data"
    }
   ],
   "source": [
    "knitr::kable( dfx@variants.per.sample %>% head,format = \"pandoc\")"
   ]
  },
  {
   "cell_type": "markdown",
   "metadata": {},
   "source": [
    "### Number of Genes with 2 or more mutations"
   ]
  },
  {
   "cell_type": "code",
   "execution_count": 37,
   "metadata": {},
   "outputs": [
    {
     "data": {
      "text/html": [
       "0"
      ],
      "text/latex": [
       "0"
      ],
      "text/markdown": [
       "0"
      ],
      "text/plain": [
       "[1] 0"
      ]
     },
     "metadata": {},
     "output_type": "display_data"
    }
   ],
   "source": [
    "gs = as.data.frame( dfx@gene.summary )  \n",
    "gf_sx = nrow( gs[ gs$MutatedSamples >= 2,] )\n",
    "gf_sx"
   ]
  },
  {
   "cell_type": "code",
   "execution_count": 38,
   "metadata": {},
   "outputs": [],
   "source": [
    "total_genes=length(gs$Hugo_Symbol)"
   ]
  },
  {
   "cell_type": "code",
   "execution_count": 39,
   "metadata": {},
   "outputs": [
    {
     "data": {
      "text/html": [
       "5"
      ],
      "text/latex": [
       "5"
      ],
      "text/markdown": [
       "5"
      ],
      "text/plain": [
       "[1] 5"
      ]
     },
     "metadata": {},
     "output_type": "display_data"
    }
   ],
   "source": [
    "total_genes"
   ]
  },
  {
   "cell_type": "code",
   "execution_count": 40,
   "metadata": {},
   "outputs": [
    {
     "data": {
      "text/html": [
       "<table>\n",
       "<thead><tr><th scope=col>Hugo_Symbol</th><th scope=col>Frame_Shift_Del</th><th scope=col>Missense_Mutation</th><th scope=col>total</th><th scope=col>MutatedSamples</th><th scope=col>AlteredSamples</th></tr></thead>\n",
       "<tbody>\n",
       "\t<tr><td>BMPR1A</td><td>0     </td><td>1     </td><td>1     </td><td>1     </td><td>1     </td></tr>\n",
       "\t<tr><td>CHEK2 </td><td>1     </td><td>0     </td><td>1     </td><td>1     </td><td>1     </td></tr>\n",
       "\t<tr><td>MPL   </td><td>0     </td><td>1     </td><td>1     </td><td>1     </td><td>1     </td></tr>\n",
       "\t<tr><td>PALB2 </td><td>1     </td><td>0     </td><td>1     </td><td>1     </td><td>1     </td></tr>\n",
       "\t<tr><td>POLE  </td><td>0     </td><td>1     </td><td>1     </td><td>1     </td><td>1     </td></tr>\n",
       "</tbody>\n",
       "</table>\n"
      ],
      "text/latex": [
       "\\begin{tabular}{r|llllll}\n",
       " Hugo\\_Symbol & Frame\\_Shift\\_Del & Missense\\_Mutation & total & MutatedSamples & AlteredSamples\\\\\n",
       "\\hline\n",
       "\t BMPR1A & 0      & 1      & 1      & 1      & 1     \\\\\n",
       "\t CHEK2  & 1      & 0      & 1      & 1      & 1     \\\\\n",
       "\t MPL    & 0      & 1      & 1      & 1      & 1     \\\\\n",
       "\t PALB2  & 1      & 0      & 1      & 1      & 1     \\\\\n",
       "\t POLE   & 0      & 1      & 1      & 1      & 1     \\\\\n",
       "\\end{tabular}\n"
      ],
      "text/markdown": [
       "\n",
       "| Hugo_Symbol | Frame_Shift_Del | Missense_Mutation | total | MutatedSamples | AlteredSamples |\n",
       "|---|---|---|---|---|---|\n",
       "| BMPR1A | 0      | 1      | 1      | 1      | 1      |\n",
       "| CHEK2  | 1      | 0      | 1      | 1      | 1      |\n",
       "| MPL    | 0      | 1      | 1      | 1      | 1      |\n",
       "| PALB2  | 1      | 0      | 1      | 1      | 1      |\n",
       "| POLE   | 0      | 1      | 1      | 1      | 1      |\n",
       "\n"
      ],
      "text/plain": [
       "  Hugo_Symbol Frame_Shift_Del Missense_Mutation total MutatedSamples\n",
       "1 BMPR1A      0               1                 1     1             \n",
       "2 CHEK2       1               0                 1     1             \n",
       "3 MPL         0               1                 1     1             \n",
       "4 PALB2       1               0                 1     1             \n",
       "5 POLE        0               1                 1     1             \n",
       "  AlteredSamples\n",
       "1 1             \n",
       "2 1             \n",
       "3 1             \n",
       "4 1             \n",
       "5 1             "
      ]
     },
     "metadata": {},
     "output_type": "display_data"
    }
   ],
   "source": [
    "gs"
   ]
  },
  {
   "cell_type": "code",
   "execution_count": 41,
   "metadata": {},
   "outputs": [
    {
     "data": {
      "image/png": "[encoded data removed]",
      "text/plain": [
       "plot without title"
      ]
     },
     "metadata": {},
     "output_type": "display_data"
    }
   ],
   "source": [
    "gs_mat = gs %>% dplyr::select(-c('Hugo_Symbol','total', 'AlteredSamples', 'MutatedSamples') )\n",
    "rownames(gs_mat)=gs$Hugo_Symbol\n",
    "options(repr.plot.height=4,repr.plot.width=5)\n",
    "ggballoonplot(gs_mat)"
   ]
  },
  {
   "cell_type": "code",
   "execution_count": 42,
   "metadata": {},
   "outputs": [
    {
     "data": {
      "image/png": "[encoded data removed]",
      "text/plain": [
       "plot without title"
      ]
     },
     "metadata": {},
     "output_type": "display_data"
    }
   ],
   "source": [
    "options(repr.plot.width=5, repr.plot.height=4)\n",
    "gs %>% ggdotchart(\"Hugo_Symbol\",\"MutatedSamples\", \n",
    "                  rotate = TRUE,\n",
    "                  sorting = \"descending\",\n",
    "                  show.label = F,size = \"MutatedSamples\", \n",
    "                  ggtheme = theme_pubr() )"
   ]
  },
  {
   "cell_type": "markdown",
   "metadata": {},
   "source": [
    "### plotmafSummary\n",
    "to plot the summary of the maf file, which displays number of variants in each sample as a stacked barplot and variant types as a boxplot summarized by Variant_Classification."
   ]
  },
  {
   "cell_type": "code",
   "execution_count": 43,
   "metadata": {},
   "outputs": [
    {
     "data": {
      "image/png": "[encoded data removed]",
      "text/plain": [
       "Plot with title “Top 5\n",
       "mutated genes”"
      ]
     },
     "metadata": {},
     "output_type": "display_data"
    }
   ],
   "source": [
    "options(repr.plot.width=12, repr.plot.height=7)\n",
    "plotmafSummary(maf=dfx, rmOutlier=F ,dashboard=TRUE,addStat='median', textSize=2,top=total_genes, showBarcodes=F )"
   ]
  },
  {
   "cell_type": "code",
   "execution_count": 44,
   "metadata": {},
   "outputs": [
    {
     "data": {
      "text/html": [
       "'Saving : ../KCPG_Variants/plots/KCP_wo_AR_TT-Germ_Cell_Tumor_plotmafsummary_01.svg'"
      ],
      "text/latex": [
       "'Saving : ../KCPG\\_Variants/plots/KCP\\_wo\\_AR\\_TT-Germ\\_Cell\\_Tumor\\_plotmafsummary\\_01.svg'"
      ],
      "text/markdown": [
       "'Saving : ../KCPG_Variants/plots/KCP_wo_AR_TT-Germ_Cell_Tumor_plotmafsummary_01.svg'"
      ],
      "text/plain": [
       "[1] \"Saving : ../KCPG_Variants/plots/KCP_wo_AR_TT-Germ_Cell_Tumor_plotmafsummary_01.svg\""
      ]
     },
     "metadata": {},
     "output_type": "display_data"
    },
    {
     "data": {
      "text/html": [
       "<strong>png:</strong> 2"
      ],
      "text/latex": [
       "\\textbf{png:} 2"
      ],
      "text/markdown": [
       "**png:** 2"
      ],
      "text/plain": [
       "png \n",
       "  2 "
      ]
     },
     "metadata": {},
     "output_type": "display_data"
    }
   ],
   "source": [
    "options(repr.plot.width=12, repr.plot.height=7)\n",
    "out_svg = paste0('../KCPG_Variants/plots/KCP_wo_AR_','TT-',gsub(\"'\",\"\", gsub(' ','_',ttype)),'_plotmafsummary_01.svg')\n",
    "paste0(\"Saving : \", out_svg)\n",
    "svg(out_svg, height=7, width=12)\n",
    "plotmafSummary(maf=dfx, rmOutlier=F ,dashboard=TRUE,addStat='median', textSize=2,top=total_genes, showBarcodes=F )\n",
    "dev.off()"
   ]
  },
  {
   "cell_type": "code",
   "execution_count": 45,
   "metadata": {},
   "outputs": [
    {
     "data": {
      "image/png": "[encoded data removed]",
      "text/plain": [
       "Plot with title “Variant Classification summary”"
      ]
     },
     "metadata": {},
     "output_type": "display_data"
    }
   ],
   "source": [
    "options(repr.plot.width=9, repr.plot.height=5)\n",
    "plotmafSummary(maf = dfx, rmOutlier = FALSE ,dashboard = F,addStat = 'median', textSize = 2, top = gf_sx, showBarcodes=F )"
   ]
  },
  {
   "cell_type": "markdown",
   "metadata": {},
   "source": [
    "### Oncoplots or waterfall plots\n",
    "- Adding Clinical Data on oncoplot"
   ]
  },
  {
   "cell_type": "markdown",
   "metadata": {},
   "source": [
    "### Make Oncoplots with the total genes from the gene summary"
   ]
  },
  {
   "cell_type": "code",
   "execution_count": 46,
   "metadata": {},
   "outputs": [
    {
     "data": {
      "image/png": "[encoded data removed]",
      "text/plain": [
       "plot without title"
      ]
     },
     "metadata": {},
     "output_type": "display_data"
    }
   ],
   "source": [
    "options(repr.plot.height=7,repr.plot.width=9)\n",
    "oncoplot(maf = dfx,bgCol = \"white\",\n",
    "        top = total_genes,\n",
    "        \n",
    "        fontSize = 10,\n",
    "        SampleNamefontSize = 8,\n",
    "        titleFontSize = 12,\n",
    "        legendFontSize = 14,\n",
    "        annotationTitleFontSize = 10,\n",
    "        annotationFontSize = 9,\n",
    "        \n",
    "        drawColBar = TRUE,\n",
    "        drawRowBar = TRUE,\n",
    "        showTumorSampleBarcodes = F,\n",
    "        sortByAnnotation = TRUE,\n",
    "        writeMatrix = FALSE,\n",
    "        clinicalFeatures = c(\"Age_group\",\"Sex\"))"
   ]
  },
  {
   "cell_type": "code",
   "execution_count": 47,
   "metadata": {},
   "outputs": [
    {
     "data": {
      "text/html": [
       "'Saving : ../KCPG_Variants/plots/KCP_wo_AR_TT-Germ_Cell_Tumor_oncoplot_01.svg'"
      ],
      "text/latex": [
       "'Saving : ../KCPG\\_Variants/plots/KCP\\_wo\\_AR\\_TT-Germ\\_Cell\\_Tumor\\_oncoplot\\_01.svg'"
      ],
      "text/markdown": [
       "'Saving : ../KCPG_Variants/plots/KCP_wo_AR_TT-Germ_Cell_Tumor_oncoplot_01.svg'"
      ],
      "text/plain": [
       "[1] \"Saving : ../KCPG_Variants/plots/KCP_wo_AR_TT-Germ_Cell_Tumor_oncoplot_01.svg\""
      ]
     },
     "metadata": {},
     "output_type": "display_data"
    },
    {
     "data": {
      "text/html": [
       "<strong>png:</strong> 2"
      ],
      "text/latex": [
       "\\textbf{png:} 2"
      ],
      "text/markdown": [
       "**png:** 2"
      ],
      "text/plain": [
       "png \n",
       "  2 "
      ]
     },
     "metadata": {},
     "output_type": "display_data"
    }
   ],
   "source": [
    "out_svg = paste0('../KCPG_Variants/plots/KCP_wo_AR_','TT-',gsub(\"'\",\"\", gsub(' ','_',ttype)),'_oncoplot_01.svg')\n",
    "paste0(\"Saving : \", out_svg)\n",
    "svg(out_svg, height=7, width=9)\n",
    "\n",
    "oncoplot(maf = dfx,bgCol = \"white\",\n",
    "        top = total_genes,\n",
    "        \n",
    "        fontSize = 10,\n",
    "        SampleNamefontSize = 8,\n",
    "        titleFontSize = 12,\n",
    "        legendFontSize = 14,\n",
    "        annotationTitleFontSize = 10,\n",
    "        annotationFontSize = 9,\n",
    "        \n",
    "        drawColBar = TRUE,\n",
    "        drawRowBar = TRUE,\n",
    "        showTumorSampleBarcodes = F,\n",
    "        sortByAnnotation = TRUE,\n",
    "        writeMatrix = FALSE,\n",
    "        clinicalFeatures = c(\"Age_group\",\"Sex\"))\n",
    "dev.off()"
   ]
  },
  {
   "cell_type": "code",
   "execution_count": 48,
   "metadata": {},
   "outputs": [
    {
     "data": {
      "image/png": "[encoded data removed]",
      "text/plain": [
       "plot without title"
      ]
     },
     "metadata": {},
     "output_type": "display_data"
    }
   ],
   "source": [
    "options(repr.plot.width=12, repr.plot.height=6)\n",
    "oncoplot(maf = dfx,bgCol = \"white\",\n",
    "        top = total_genes,\n",
    "        \n",
    "        fontSize = 10,\n",
    "        SampleNamefontSize = 8,\n",
    "        titleFontSize = 12,\n",
    "        legendFontSize = 14,\n",
    "        annotationTitleFontSize = 10,\n",
    "        annotationFontSize = 9,\n",
    "        \n",
    "        drawColBar = TRUE,\n",
    "        drawRowBar = TRUE,\n",
    "        showTumorSampleBarcodes = F,\n",
    "        writeMatrix = FALSE)"
   ]
  },
  {
   "cell_type": "code",
   "execution_count": 49,
   "metadata": {},
   "outputs": [
    {
     "data": {
      "text/html": [
       "'Saving : ../KCPG_Variants/plots/KCP_wo_AR_TT-Germ_Cell_Tumor_oncoplot_02.svg'"
      ],
      "text/latex": [
       "'Saving : ../KCPG\\_Variants/plots/KCP\\_wo\\_AR\\_TT-Germ\\_Cell\\_Tumor\\_oncoplot\\_02.svg'"
      ],
      "text/markdown": [
       "'Saving : ../KCPG_Variants/plots/KCP_wo_AR_TT-Germ_Cell_Tumor_oncoplot_02.svg'"
      ],
      "text/plain": [
       "[1] \"Saving : ../KCPG_Variants/plots/KCP_wo_AR_TT-Germ_Cell_Tumor_oncoplot_02.svg\""
      ]
     },
     "metadata": {},
     "output_type": "display_data"
    },
    {
     "data": {
      "text/html": [
       "<strong>png:</strong> 2"
      ],
      "text/latex": [
       "\\textbf{png:} 2"
      ],
      "text/markdown": [
       "**png:** 2"
      ],
      "text/plain": [
       "png \n",
       "  2 "
      ]
     },
     "metadata": {},
     "output_type": "display_data"
    }
   ],
   "source": [
    "out_svg = paste0('../KCPG_Variants/plots/KCP_wo_AR_','TT-',gsub(\"'\",\"\", gsub(' ','_',ttype)),'_oncoplot_02.svg')\n",
    "paste0(\"Saving : \", out_svg)\n",
    "svg(out_svg, height=7, width=9)\n",
    "\n",
    "oncoplot(maf = dfx,bgCol = \"white\",\n",
    "        top = total_genes,\n",
    "        \n",
    "        fontSize = 10,\n",
    "        SampleNamefontSize = 8,\n",
    "        titleFontSize = 12,\n",
    "        legendFontSize = 14,\n",
    "        annotationTitleFontSize = 10,\n",
    "        annotationFontSize = 9,\n",
    "        \n",
    "        drawColBar = TRUE,\n",
    "        drawRowBar = TRUE,\n",
    "        showTumorSampleBarcodes = F,\n",
    "        writeMatrix = FALSE)\n",
    "dev.off()"
   ]
  },
  {
   "cell_type": "markdown",
   "metadata": {},
   "source": [
    "### Plot Transition and Transversions\n",
    "returns a list of summarized tables in various ways. Summarized data can also be visualized as a boxplot showing overall distribution of six different conversions and as a stacked barplot showing fraction of conversions in each sample."
   ]
  },
  {
   "cell_type": "code",
   "execution_count": 50,
   "metadata": {},
   "outputs": [
    {
     "data": {
      "text/plain": [
       "An object of class  MAF \n",
       "                  ID summary Mean Median\n",
       "1:        NCBI_Build      38   NA     NA\n",
       "2:            Center      NA   NA     NA\n",
       "3:           Samples       4   NA     NA\n",
       "4:            nGenes       5   NA     NA\n",
       "5:   Frame_Shift_Del       2 0.50    0.5\n",
       "6: Missense_Mutation       3 0.75    1.0\n",
       "7:             total       5 1.25    1.0"
      ]
     },
     "metadata": {},
     "output_type": "display_data"
    }
   ],
   "source": [
    "dfx"
   ]
  },
  {
   "cell_type": "code",
   "execution_count": 51,
   "metadata": {},
   "outputs": [
    {
     "data": {
      "text/plain": [
       "NULL"
      ]
     },
     "metadata": {},
     "output_type": "display_data"
    },
    {
     "data": {
      "image/png": "[encoded data removed]",
      "text/plain": [
       "plot without title"
      ]
     },
     "metadata": {},
     "output_type": "display_data"
    }
   ],
   "source": [
    "options(repr.plot.width=13,repr.plot.height=6)\n",
    "dfx.titv = titv(maf = dfx, plot = F, useSyn = T  )\n",
    "plotTiTv(res = dfx.titv ,showBarcodes = F, textSize=5)"
   ]
  },
  {
   "cell_type": "code",
   "execution_count": 52,
   "metadata": {},
   "outputs": [
    {
     "data": {
      "image/png": "[encoded data removed]",
      "text/plain": [
       "plot without title"
      ]
     },
     "metadata": {},
     "output_type": "display_data"
    }
   ],
   "source": [
    "options(repr.plot.width=8, repr.plot.height=8)\n",
    "set.seed(42)\n",
    "geneCloud(input = dfx, min=0)"
   ]
  },
  {
   "cell_type": "code",
   "execution_count": 53,
   "metadata": {},
   "outputs": [
    {
     "data": {
      "text/html": [
       "'Saving : ../KCPG_Variants/plots/KCP_wo_AR_TT-Germ_Cell_Tumor_genecloud_01.svg'"
      ],
      "text/latex": [
       "'Saving : ../KCPG\\_Variants/plots/KCP\\_wo\\_AR\\_TT-Germ\\_Cell\\_Tumor\\_genecloud\\_01.svg'"
      ],
      "text/markdown": [
       "'Saving : ../KCPG_Variants/plots/KCP_wo_AR_TT-Germ_Cell_Tumor_genecloud_01.svg'"
      ],
      "text/plain": [
       "[1] \"Saving : ../KCPG_Variants/plots/KCP_wo_AR_TT-Germ_Cell_Tumor_genecloud_01.svg\""
      ]
     },
     "metadata": {},
     "output_type": "display_data"
    },
    {
     "data": {
      "text/html": [
       "<strong>png:</strong> 2"
      ],
      "text/latex": [
       "\\textbf{png:} 2"
      ],
      "text/markdown": [
       "**png:** 2"
      ],
      "text/plain": [
       "png \n",
       "  2 "
      ]
     },
     "metadata": {},
     "output_type": "display_data"
    }
   ],
   "source": [
    "out_svg = paste0('../KCPG_Variants/plots/KCP_wo_AR_','TT-',gsub(\"'\",\"\", gsub(' ','_',ttype)),'_genecloud_01.svg')\n",
    "paste0(\"Saving : \", out_svg)\n",
    "svg(out_svg, height=8, width=8)\n",
    "set.seed(42)\n",
    "geneCloud(input = dfx, min=0)\n",
    "dev.off()"
   ]
  },
  {
   "cell_type": "code",
   "execution_count": 54,
   "metadata": {},
   "outputs": [
    {
     "data": {
      "image/png": "[encoded data removed]",
      "text/plain": [
       "plot without title"
      ]
     },
     "metadata": {},
     "output_type": "display_data"
    }
   ],
   "source": [
    "options(repr.plot.width=10, repr.plot.height=10)\n",
    "gs = getGeneSummary(dfx)\n",
    "gs = gs[MutatedSamples >=0]\n",
    "set.seed(42)\n",
    "wordcloud::wordcloud(words = gs[, Hugo_Symbol], gs[,MutatedSamples], \n",
    "           min.freq =1,\n",
    "           max.words=50, \n",
    "          random.order=FALSE, \n",
    "          rot.per=0.35, \n",
    "          colors=brewer.pal(8, \"Dark2\"))"
   ]
  },
  {
   "cell_type": "code",
   "execution_count": 55,
   "metadata": {},
   "outputs": [
    {
     "data": {
      "text/html": [
       "'Saving : ../KCPG_Variants/plots/KCP_wo_AR_TT-Germ_Cell_Tumor_genecloud_02.svg'"
      ],
      "text/latex": [
       "'Saving : ../KCPG\\_Variants/plots/KCP\\_wo\\_AR\\_TT-Germ\\_Cell\\_Tumor\\_genecloud\\_02.svg'"
      ],
      "text/markdown": [
       "'Saving : ../KCPG_Variants/plots/KCP_wo_AR_TT-Germ_Cell_Tumor_genecloud_02.svg'"
      ],
      "text/plain": [
       "[1] \"Saving : ../KCPG_Variants/plots/KCP_wo_AR_TT-Germ_Cell_Tumor_genecloud_02.svg\""
      ]
     },
     "metadata": {},
     "output_type": "display_data"
    },
    {
     "data": {
      "text/html": [
       "<strong>png:</strong> 2"
      ],
      "text/latex": [
       "\\textbf{png:} 2"
      ],
      "text/markdown": [
       "**png:** 2"
      ],
      "text/plain": [
       "png \n",
       "  2 "
      ]
     },
     "metadata": {},
     "output_type": "display_data"
    }
   ],
   "source": [
    "options(repr.plot.width=10, repr.plot.height=10)\n",
    "\n",
    "out_svg = paste0('../KCPG_Variants/plots/KCP_wo_AR_','TT-',gsub(\"'\",\"\", gsub(' ','_',ttype)),'_genecloud_02.svg')\n",
    "paste0(\"Saving : \", out_svg)\n",
    "svg(out_svg, height=9, width=12)\n",
    "gs = getGeneSummary(dfx)\n",
    "gs = gs[MutatedSamples >=0]\n",
    "set.seed(42)\n",
    "wordcloud::wordcloud(words = gs[, Hugo_Symbol], gs[,MutatedSamples], \n",
    "          min.freq = 1,\n",
    "          # max.words=200, \n",
    "          random.order=FALSE, \n",
    "          rot.per=0.45, \n",
    "          colors=brewer.pal(8, \"Dark2\"))\n",
    "dev.off()"
   ]
  },
  {
   "cell_type": "markdown",
   "metadata": {},
   "source": [
    "##  Drug Interactions\n",
    "- plot shows potential druggable gene categories along with upto top 5 genes involved in them. \n",
    "- One can also extract information on drug-gene interactions. \n",
    "- [check this documentation](https://bioconductor.org/packages/release/bioc/vignettes/maftools/inst/doc/maftools.html#98_drug-gene_interactions)"
   ]
  },
  {
   "cell_type": "code",
   "execution_count": 56,
   "metadata": {},
   "outputs": [
    {
     "data": {
      "image/png": "[encoded data removed]",
      "text/plain": [
       "Plot with title “Druggable categories”"
      ]
     },
     "metadata": {},
     "output_type": "display_data"
    }
   ],
   "source": [
    "options(repr.plot.height=6, repr.plot.width=12)\n",
    "dfx_drug =maftools::drugInteractions(dfx, top=gf_sx )"
   ]
  },
  {
   "cell_type": "code",
   "execution_count": 57,
   "metadata": {},
   "outputs": [
    {
     "data": {
      "text/html": [
       "'Saving drug interaction svg to : ../KCPG_Variants/plots/KCP_wo_AR_TT-Germ_Cell_Tumor_drugInteractions_01.svg'"
      ],
      "text/latex": [
       "'Saving drug interaction svg to : ../KCPG\\_Variants/plots/KCP\\_wo\\_AR\\_TT-Germ\\_Cell\\_Tumor\\_drugInteractions\\_01.svg'"
      ],
      "text/markdown": [
       "'Saving drug interaction svg to : ../KCPG_Variants/plots/KCP_wo_AR_TT-Germ_Cell_Tumor_drugInteractions_01.svg'"
      ],
      "text/plain": [
       "[1] \"Saving drug interaction svg to : ../KCPG_Variants/plots/KCP_wo_AR_TT-Germ_Cell_Tumor_drugInteractions_01.svg\""
      ]
     },
     "metadata": {},
     "output_type": "display_data"
    },
    {
     "data": {
      "text/html": [
       "<strong>png:</strong> 2"
      ],
      "text/latex": [
       "\\textbf{png:} 2"
      ],
      "text/markdown": [
       "**png:** 2"
      ],
      "text/plain": [
       "png \n",
       "  2 "
      ]
     },
     "metadata": {},
     "output_type": "display_data"
    }
   ],
   "source": [
    "out_svg = paste0('../KCPG_Variants/plots/KCP_wo_AR_','TT-',gsub(\"'\",\"\", gsub(' ','_',ttype)),'_drugInteractions_01.svg')\n",
    "paste0(\"Saving drug interaction svg to : \", out_svg)\n",
    "svg(out_svg, height=9, width=12)\n",
    "dfx_drug =maftools::drugInteractions(dfx, top=gf_sx)\n",
    "dev.off()"
   ]
  },
  {
   "cell_type": "markdown",
   "metadata": {},
   "source": [
    "## Oncogenic Pathways"
   ]
  },
  {
   "cell_type": "code",
   "execution_count": 58,
   "metadata": {},
   "outputs": [
    {
     "name": "stderr",
     "output_type": "stream",
     "text": [
      "Pathway alteration fractions\n"
     ]
    },
    {
     "name": "stdout",
     "output_type": "stream",
     "text": [
      "       Pathway  N n_affected_genes fraction_affected\n",
      " 1:       TP53  6                1         0.1666667\n",
      " 2: Cell_Cycle 15                0         0.0000000\n",
      " 3:      Hippo 38                0         0.0000000\n",
      " 4:        MYC 13                0         0.0000000\n",
      " 5:      NOTCH 71                0         0.0000000\n",
      " 6:       NRF2  3                0         0.0000000\n",
      " 7:       PI3K 29                0         0.0000000\n",
      " 8:    RTK-RAS 85                0         0.0000000\n",
      " 9:   TGF-Beta  7                0         0.0000000\n",
      "10:        WNT 68                0         0.0000000\n"
     ]
    }
   ],
   "source": [
    "options(repr.plot.width=6, repr.plot.height=4)\n",
    "op = OncogenicPathways(dfx)"
   ]
  },
  {
   "cell_type": "code",
   "execution_count": 59,
   "metadata": {},
   "outputs": [
    {
     "data": {
      "image/png": "[encoded data removed]",
      "text/plain": [
       "plot without title"
      ]
     },
     "metadata": {},
     "output_type": "display_data"
    }
   ],
   "source": [
    "op"
   ]
  },
  {
   "cell_type": "code",
   "execution_count": 60,
   "metadata": {},
   "outputs": [
    {
     "data": {
      "text/html": [
       "'Saving drug interaction svg to : ../KCPG_Variants/plots/KCP_wo_AR_TT-Germ_Cell_Tumor_OncogenicPathway_01.svg'"
      ],
      "text/latex": [
       "'Saving drug interaction svg to : ../KCPG\\_Variants/plots/KCP\\_wo\\_AR\\_TT-Germ\\_Cell\\_Tumor\\_OncogenicPathway\\_01.svg'"
      ],
      "text/markdown": [
       "'Saving drug interaction svg to : ../KCPG_Variants/plots/KCP_wo_AR_TT-Germ_Cell_Tumor_OncogenicPathway_01.svg'"
      ],
      "text/plain": [
       "[1] \"Saving drug interaction svg to : ../KCPG_Variants/plots/KCP_wo_AR_TT-Germ_Cell_Tumor_OncogenicPathway_01.svg\""
      ]
     },
     "metadata": {},
     "output_type": "display_data"
    },
    {
     "data": {
      "text/html": [
       "<strong>png:</strong> 2"
      ],
      "text/latex": [
       "\\textbf{png:} 2"
      ],
      "text/markdown": [
       "**png:** 2"
      ],
      "text/plain": [
       "png \n",
       "  2 "
      ]
     },
     "metadata": {},
     "output_type": "display_data"
    }
   ],
   "source": [
    "out_svg = paste0('../KCPG_Variants/plots/KCP_wo_AR_','TT-',gsub(\"'\",\"\", gsub(' ','_',ttype)),'_OncogenicPathway_01.svg')\n",
    "paste0(\"Saving drug interaction svg to : \", out_svg)\n",
    "\n",
    "svg(out_svg, height=9, width=12)\n",
    "op\n",
    "dev.off()"
   ]
  },
  {
   "cell_type": "code",
   "execution_count": 61,
   "metadata": {},
   "outputs": [
    {
     "data": {
      "image/png": "[encoded data removed]",
      "text/plain": [
       "Plot with title “TP53 pathway”"
      ]
     },
     "metadata": {},
     "output_type": "display_data"
    }
   ],
   "source": [
    "options(repr.plot.width=10, repr.plot.height=2)\n",
    "for( i in 1:length( op$data$Pathway ) ){\n",
    "    pway = op$data$Pathway[i]\n",
    "    PlotOncogenicPathways(dfx,pway, fullPathway = F, removeNonMutated = T)\n",
    "}"
   ]
  },
  {
   "cell_type": "code",
   "execution_count": 62,
   "metadata": {},
   "outputs": [],
   "source": [
    "# pathway_lst = c(\"Cell_Cycle\",\"Hippo\",\"MYC\",\"NOTCH\",\"NRF2\",\"PI3K\",\"RTK-RAS\",\"TGF-Beta\",\"TP53\",\"WNT\")"
   ]
  },
  {
   "cell_type": "code",
   "execution_count": 63,
   "metadata": {},
   "outputs": [],
   "source": [
    "# options(repr.plot.width=10, repr.plot.height=8)\n",
    "# PlotOncogenicPathways(dfx,pathway_lst[10], fullPathway = T)"
   ]
  },
  {
   "cell_type": "code",
   "execution_count": 64,
   "metadata": {},
   "outputs": [],
   "source": [
    "# options(repr.plot.width=10, repr.plot.height=3)\n",
    "# PlotOncogenicPathways(dfx,pathway_lst[9], fullPathway = T)"
   ]
  },
  {
   "cell_type": "code",
   "execution_count": 65,
   "metadata": {},
   "outputs": [],
   "source": [
    "# options(repr.plot.width=10, repr.plot.height=9)\n",
    "# PlotOncogenicPathways(dfx,pathway_lst[7], fullPathway = T)"
   ]
  },
  {
   "cell_type": "code",
   "execution_count": 66,
   "metadata": {},
   "outputs": [],
   "source": [
    "# options(repr.plot.width=10, repr.plot.height=3)\n",
    "# PlotOncogenicPathways(dfx,pathway_lst[7], fullPathway = F, removeNonMutated = T)"
   ]
  },
  {
   "cell_type": "markdown",
   "metadata": {},
   "source": [
    "## Save the MAF file"
   ]
  },
  {
   "cell_type": "code",
   "execution_count": 67,
   "metadata": {},
   "outputs": [
    {
     "data": {
      "text/html": [
       "'Saving MAF file to : ../KCPG_Variants/maf_res/KCP_wo_AR_TT-Germ_Cell_Tumor'"
      ],
      "text/latex": [
       "'Saving MAF file to : ../KCPG\\_Variants/maf\\_res/KCP\\_wo\\_AR\\_TT-Germ\\_Cell\\_Tumor'"
      ],
      "text/markdown": [
       "'Saving MAF file to : ../KCPG_Variants/maf_res/KCP_wo_AR_TT-Germ_Cell_Tumor'"
      ],
      "text/plain": [
       "[1] \"Saving MAF file to : ../KCPG_Variants/maf_res/KCP_wo_AR_TT-Germ_Cell_Tumor\""
      ]
     },
     "metadata": {},
     "output_type": "display_data"
    }
   ],
   "source": [
    "out_file = paste0('../KCPG_Variants/maf_res/KCP_wo_AR_','TT-',gsub(\"'\",\"\", gsub(' ','_',ttype)) )\n",
    "paste0(\"Saving MAF file to : \", out_file)\n",
    "maftools::write.mafSummary(dfx, out_file)"
   ]
  },
  {
   "cell_type": "code",
   "execution_count": 68,
   "metadata": {},
   "outputs": [
    {
     "data": {
      "text/html": [
       "'Saving drug Interactions data to : ../KCPG_Variants/maf_res/KCP_wo_AR_TT-Germ_Cell_Tumor_drugInteractions.tsv'"
      ],
      "text/latex": [
       "'Saving drug Interactions data to : ../KCPG\\_Variants/maf\\_res/KCP\\_wo\\_AR\\_TT-Germ\\_Cell\\_Tumor\\_drugInteractions.tsv'"
      ],
      "text/markdown": [
       "'Saving drug Interactions data to : ../KCPG_Variants/maf_res/KCP_wo_AR_TT-Germ_Cell_Tumor_drugInteractions.tsv'"
      ],
      "text/plain": [
       "[1] \"Saving drug Interactions data to : ../KCPG_Variants/maf_res/KCP_wo_AR_TT-Germ_Cell_Tumor_drugInteractions.tsv\""
      ]
     },
     "metadata": {},
     "output_type": "display_data"
    }
   ],
   "source": [
    "out_file = paste0('../KCPG_Variants/maf_res/KCP_wo_AR_','TT-',gsub(\"'\",\"\", gsub(' ','_',ttype)),'_drugInteractions.tsv')\n",
    "paste0(\"Saving drug Interactions data to : \", out_file)\n",
    "write.table(dfx_drug, out_file, sep=\"\\t\", row.names = F, quote = F)"
   ]
  },
  {
   "cell_type": "markdown",
   "metadata": {},
   "source": [
    "## Save the data frames"
   ]
  },
  {
   "cell_type": "code",
   "execution_count": 69,
   "metadata": {},
   "outputs": [
    {
     "data": {
      "text/html": [
       "'Saving mutation data to : ../KCPG_Variants/data/KCP_wo_AR_TT-Germ_Cell_Tumor_mutation_data.tsv'"
      ],
      "text/latex": [
       "'Saving mutation data to : ../KCPG\\_Variants/data/KCP\\_wo\\_AR\\_TT-Germ\\_Cell\\_Tumor\\_mutation\\_data.tsv'"
      ],
      "text/markdown": [
       "'Saving mutation data to : ../KCPG_Variants/data/KCP_wo_AR_TT-Germ_Cell_Tumor_mutation_data.tsv'"
      ],
      "text/plain": [
       "[1] \"Saving mutation data to : ../KCPG_Variants/data/KCP_wo_AR_TT-Germ_Cell_Tumor_mutation_data.tsv\""
      ]
     },
     "metadata": {},
     "output_type": "display_data"
    }
   ],
   "source": [
    "out_file = paste0('../KCPG_Variants/data/KCP_wo_AR_','TT-',gsub(\"'\",\"\", gsub(' ','_',ttype)),\"_mutation_data.tsv\")\n",
    "paste0(\"Saving mutation data to : \", out_file)\n",
    "write.table(df_ss, file = out_file, sep=\"\\t\", quote = F, row.names = F)"
   ]
  },
  {
   "cell_type": "code",
   "execution_count": 70,
   "metadata": {},
   "outputs": [
    {
     "data": {
      "text/html": [
       "'Saving clinical data to : ../KCPG_Variants/data/KCP_wo_AR_TT-Germ_Cell_Tumor_clinical_data.tsv'"
      ],
      "text/latex": [
       "'Saving clinical data to : ../KCPG\\_Variants/data/KCP\\_wo\\_AR\\_TT-Germ\\_Cell\\_Tumor\\_clinical\\_data.tsv'"
      ],
      "text/markdown": [
       "'Saving clinical data to : ../KCPG_Variants/data/KCP_wo_AR_TT-Germ_Cell_Tumor_clinical_data.tsv'"
      ],
      "text/plain": [
       "[1] \"Saving clinical data to : ../KCPG_Variants/data/KCP_wo_AR_TT-Germ_Cell_Tumor_clinical_data.tsv\""
      ]
     },
     "metadata": {},
     "output_type": "display_data"
    }
   ],
   "source": [
    "out_file = paste0('../KCPG_Variants/data/KCP_wo_AR_','TT-',gsub(\"'\",\"\", gsub(' ','_',ttype)),\"_clinical_data.tsv\")\n",
    "paste0(\"Saving clinical data to : \", out_file)\n",
    "write.table(df2_ss, file = out_file, sep=\"\\t\", quote = F, row.names = F)"
   ]
  },
  {
   "cell_type": "code",
   "execution_count": 71,
   "metadata": {},
   "outputs": [
    {
     "data": {
      "text/plain": [
       "               _                           \n",
       "platform       x86_64-redhat-linux-gnu     \n",
       "arch           x86_64                      \n",
       "os             linux-gnu                   \n",
       "system         x86_64, linux-gnu           \n",
       "status                                     \n",
       "major          3                           \n",
       "minor          5.0                         \n",
       "year           2018                        \n",
       "month          04                          \n",
       "day            23                          \n",
       "svn rev        74626                       \n",
       "language       R                           \n",
       "version.string R version 3.5.0 (2018-04-23)\n",
       "nickname       Joy in Playing              "
      ]
     },
     "metadata": {},
     "output_type": "display_data"
    }
   ],
   "source": [
    "version"
   ]
  },
  {
   "cell_type": "code",
   "execution_count": 73,
   "metadata": {},
   "outputs": [
    {
     "data": {
      "text/plain": [
       "R version 3.5.0 (2018-04-23)\n",
       "Platform: x86_64-redhat-linux-gnu (64-bit)\n",
       "Running under: Fedora 24 (Workstation Edition)\n",
       "\n",
       "Matrix products: default\n",
       "BLAS/LAPACK: /usr/lib64/R/lib/libRblas.so\n",
       "\n",
       "locale:\n",
       " [1] LC_CTYPE=en_US.UTF-8       LC_NUMERIC=C              \n",
       " [3] LC_TIME=en_US.UTF-8        LC_COLLATE=en_US.UTF-8    \n",
       " [5] LC_MONETARY=en_US.UTF-8    LC_MESSAGES=en_US.UTF-8   \n",
       " [7] LC_PAPER=en_US.UTF-8       LC_NAME=C                 \n",
       " [9] LC_ADDRESS=C               LC_TELEPHONE=C            \n",
       "[11] LC_MEASUREMENT=en_US.UTF-8 LC_IDENTIFICATION=C       \n",
       "\n",
       "attached base packages:\n",
       "[1] parallel  grid      stats     graphics  grDevices utils     datasets \n",
       "[8] methods   base     \n",
       "\n",
       "other attached packages:\n",
       " [1] wordcloud_2.6       RColorBrewer_1.1-2  knitr_1.22         \n",
       " [4] corrplot_0.84       maftools_1.8.0      Biobase_2.42.0     \n",
       " [7] BiocGenerics_0.28.0 vcd_1.4-4           ggpubr_0.2         \n",
       "[10] magrittr_1.5        xtable_1.8-4        mixOmics_6.6.2     \n",
       "[13] MASS_7.3-51.1       factoextra_1.0.5    FactoMineR_1.41    \n",
       "[16] DescTools_0.99.27   gtools_3.8.1        broom_0.5.1        \n",
       "[19] d3heatmap_0.6.1.2   pheatmap_1.0.12     reshape2_1.4.3     \n",
       "[22] mosaic_1.4.0        Matrix_1.2-15       mosaicData_0.17.0  \n",
       "[25] ggformula_0.9.0     ggstance_0.3.1      lattice_0.20-38    \n",
       "[28] xda_0.2             forcats_0.3.0       stringr_1.4.0      \n",
       "[31] dplyr_0.8.1         purrr_0.3.2         readr_1.3.1        \n",
       "[34] tidyr_0.8.3         tibble_2.1.1        ggplot2_3.1.1.9000 \n",
       "[37] tidyverse_1.2.1    \n",
       "\n",
       "loaded via a namespace (and not attached):\n",
       "  [1] readxl_1.2.0                uuid_0.1-2                 \n",
       "  [3] backports_1.1.4             circlize_0.4.5             \n",
       "  [5] NMF_0.21.0                  plyr_1.8.4                 \n",
       "  [7] igraph_1.2.4.1              repr_0.19.2                \n",
       "  [9] lazyeval_0.2.2              splines_3.5.0              \n",
       " [11] BiocParallel_1.16.6         GenomeInfoDb_1.18.2        \n",
       " [13] gridBase_0.4-7              digest_0.6.18              \n",
       " [15] foreach_1.4.4               htmltools_0.3.6            \n",
       " [17] BSgenome_1.50.0             cluster_2.0.7-1            \n",
       " [19] doParallel_1.0.14           mosaicCore_0.6.0           \n",
       " [21] ComplexHeatmap_1.20.0       Biostrings_2.50.2          \n",
       " [23] modelr_0.1.2                matrixStats_0.54.0         \n",
       " [25] rARPACK_0.11-0              colorspace_1.4-1           \n",
       " [27] rvest_0.3.2                 ggrepel_0.8.1              \n",
       " [29] xfun_0.5                    haven_2.1.0                \n",
       " [31] crayon_1.3.4                RCurl_1.95-4.11            \n",
       " [33] jsonlite_1.6                survival_2.43-3            \n",
       " [35] zoo_1.8-4                   iterators_1.0.10           \n",
       " [37] glue_1.3.1                  registry_0.5               \n",
       " [39] gtable_0.3.0                zlibbioc_1.28.0            \n",
       " [41] XVector_0.22.0              DelayedArray_0.8.0         \n",
       " [43] GetoptLong_0.1.7            shape_1.4.4                \n",
       " [45] scales_1.0.0                mvtnorm_1.0-8              \n",
       " [47] rngtools_1.3.1              bibtex_0.4.2               \n",
       " [49] Rcpp_1.0.1                  mclust_5.4.2               \n",
       " [51] flashClust_1.01-2           foreign_0.8-71             \n",
       " [53] stats4_3.5.0                htmlwidgets_1.3            \n",
       " [55] httr_1.4.0                  XML_3.98-1.16              \n",
       " [57] pkgconfig_2.0.2             manipulate_1.0.1           \n",
       " [59] labeling_0.3                tidyselect_0.2.5           \n",
       " [61] rlang_0.3.4                 munsell_0.5.0              \n",
       " [63] cellranger_1.1.0            tools_3.5.0                \n",
       " [65] cli_1.1.0                   generics_0.0.2             \n",
       " [67] evaluate_0.13               ggdendro_0.1-20            \n",
       " [69] nlme_3.1-137                leaps_3.0                  \n",
       " [71] xml2_1.2.0                  compiler_3.5.0             \n",
       " [73] rstudioapi_0.10             png_0.1-7                  \n",
       " [75] stringi_1.4.3               highr_0.8                  \n",
       " [77] RSpectra_0.13-1             IRdisplay_0.7.0            \n",
       " [79] pillar_1.4.0                lmtest_0.9-36              \n",
       " [81] GlobalOptions_0.1.0         cowplot_0.9.4              \n",
       " [83] data.table_1.12.2           bitops_1.0-6               \n",
       " [85] corpcor_1.6.9               rtracklayer_1.42.1         \n",
       " [87] GenomicRanges_1.34.0        R6_2.4.0                   \n",
       " [89] gridExtra_2.3               IRanges_2.16.0             \n",
       " [91] codetools_0.2-16            boot_1.3-20                \n",
       " [93] assertthat_0.2.1            SummarizedExperiment_1.12.0\n",
       " [95] pkgmaker_0.27               rjson_0.2.20               \n",
       " [97] withr_2.1.2                 GenomicAlignments_1.18.1   \n",
       " [99] Rsamtools_1.34.1            S4Vectors_0.20.1           \n",
       "[101] GenomeInfoDbData_1.2.0      expm_0.999-3               \n",
       "[103] hms_0.4.2                   IRkernel_0.8.15            \n",
       "[105] Cairo_1.5-9                 pbdZMQ_0.3-3               \n",
       "[107] scatterplot3d_0.3-41        lubridate_1.7.4            \n",
       "[109] base64enc_0.1-3             ellipse_0.4.1              "
      ]
     },
     "metadata": {},
     "output_type": "display_data"
    }
   ],
   "source": [
    "sessionInfo()"
   ]
  }
 ],
 "metadata": {
  "kernelspec": {
   "display_name": "p3_R_3.5.0",
   "language": "R",
   "name": "ir3.5.0"
  },
  "language_info": {
   "codemirror_mode": "r",
   "file_extension": ".r",
   "mimetype": "text/x-r-source",
   "name": "R",
   "pygments_lexer": "r",
   "version": "3.5.0"
  },
  "toc": {
   "nav_menu": {},
   "number_sections": true,
   "sideBar": true,
   "skip_h1_title": false,
   "title_cell": "Table of Contents",
   "title_sidebar": "Contents",
   "toc_cell": true,
   "toc_position": {},
   "toc_section_display": true,
   "toc_window_display": false
  },
  "varInspector": {
   "cols": {
    "lenName": 16,
    "lenType": 16,
    "lenVar": 40
   },
   "kernels_config": {
    "python": {
     "delete_cmd_postfix": "",
     "delete_cmd_prefix": "del ",
     "library": "var_list.py",
     "varRefreshCmd": "print(var_dic_list())"
    },
    "r": {
     "delete_cmd_postfix": ") ",
     "delete_cmd_prefix": "rm(",
     "library": "var_list.r",
     "varRefreshCmd": "cat(var_dic_list()) "
    }
   },
   "types_to_exclude": [
    "module",
    "function",
    "builtin_function_or_method",
    "instance",
    "_Feature"
   ],
   "window_display": false
  }
 },
 "nbformat": 4,
 "nbformat_minor": 2
}
