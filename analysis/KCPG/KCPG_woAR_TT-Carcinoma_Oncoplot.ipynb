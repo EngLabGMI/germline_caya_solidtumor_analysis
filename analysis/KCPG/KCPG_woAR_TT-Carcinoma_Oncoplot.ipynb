{
 "cells": [
  {
   "cell_type": "markdown",
   "metadata": {},
   "source": [
    "# Known Cancer Predisposition Genes, without autosomal recessive genes for Carcinoma\n",
    "----- \n",
    "- Date : 17th May 2019\n",
    "- using R3.5 kernal\n",
    "- on 89"
   ]
  },
  {
   "cell_type": "code",
   "execution_count": 1,
   "metadata": {},
   "outputs": [],
   "source": [
    "source(\"~/bin/da.R\")"
   ]
  },
  {
   "cell_type": "code",
   "execution_count": 2,
   "metadata": {
    "collapsed": true
   },
   "outputs": [],
   "source": [
    "suppressPackageStartupMessages({\n",
    "    library(tidyverse) \n",
    "    library(vcd)\n",
    "    library(readr)\n",
    "    library(maftools)\n",
    "    library(corrplot)\n",
    "    library(knitr)\n",
    "    library(wordcloud)\n",
    "    library(RColorBrewer)})"
   ]
  },
  {
   "cell_type": "code",
   "execution_count": 3,
   "metadata": {},
   "outputs": [
    {
     "data": {
      "text/plain": [
       "[1] ‘1.8.0’"
      ]
     },
     "metadata": {},
     "output_type": "display_data"
    }
   ],
   "source": [
    "packageVersion(\"maftools\")"
   ]
  },
  {
   "cell_type": "markdown",
   "metadata": {},
   "source": [
    "## Mutationa Data"
   ]
  },
  {
   "cell_type": "code",
   "execution_count": 4,
   "metadata": {
    "collapsed": true
   },
   "outputs": [],
   "source": [
    "file_name=\"../KCPG_Variants/data/Mutation_data_cleaned_051019.xls\""
   ]
  },
  {
   "cell_type": "code",
   "execution_count": 5,
   "metadata": {
    "collapsed": true
   },
   "outputs": [],
   "source": [
    "df= readxl::read_excel(file_name)"
   ]
  },
  {
   "cell_type": "code",
   "execution_count": 6,
   "metadata": {},
   "outputs": [
    {
     "data": {
      "text/html": [
       "<ol class=list-inline>\n",
       "\t<li>3016</li>\n",
       "\t<li>84</li>\n",
       "</ol>\n"
      ],
      "text/latex": [
       "\\begin{enumerate*}\n",
       "\\item 3016\n",
       "\\item 84\n",
       "\\end{enumerate*}\n"
      ],
      "text/markdown": [
       "1. 3016\n",
       "2. 84\n",
       "\n",
       "\n"
      ],
      "text/plain": [
       "[1] 3016   84"
      ]
     },
     "metadata": {},
     "output_type": "display_data"
    }
   ],
   "source": [
    "df %>% dim"
   ]
  },
  {
   "cell_type": "code",
   "execution_count": 7,
   "metadata": {},
   "outputs": [
    {
     "data": {
      "text/plain": [
       "\n",
       "\n",
       "Var1     Freq\n",
       "------  -----\n",
       "CNS       613\n",
       "WLM       405\n",
       "NBL       343\n",
       "RHB       259\n",
       "OS        241\n",
       "HGG       229\n",
       "RB        221\n",
       "EWS       192\n",
       "STS       177\n",
       "GCT       139\n",
       "ACT        79\n",
       "LGG        52\n",
       "CA         35\n",
       "OST        18\n",
       "RCC         5\n",
       "GICT        2\n",
       "LMPRT       2\n",
       "PGL         2\n",
       "BCC         1\n",
       "NM          1"
      ]
     },
     "metadata": {},
     "output_type": "display_data"
    }
   ],
   "source": [
    "knitr::kable( sort( table(df$Tumor_types ),decreasing = T), format=\"pandoc\")"
   ]
  },
  {
   "cell_type": "code",
   "execution_count": 8,
   "metadata": {},
   "outputs": [
    {
     "data": {
      "text/html": [
       "<table>\n",
       "<tbody>\n",
       "\t<tr><th scope=row>known</th><td> 290</td></tr>\n",
       "\t<tr><th scope=row>suggesting</th><td>2726</td></tr>\n",
       "</tbody>\n",
       "</table>\n"
      ],
      "text/latex": [
       "\\begin{tabular}{r|l}\n",
       "\tknown &  290\\\\\n",
       "\tsuggesting & 2726\\\\\n",
       "\\end{tabular}\n"
      ],
      "text/markdown": [
       "\n",
       "| known |  290 |\n",
       "| suggesting | 2726 |\n",
       "\n"
      ],
      "text/plain": [
       "           [,1]\n",
       "known       290\n",
       "suggesting 2726"
      ]
     },
     "metadata": {},
     "output_type": "display_data"
    }
   ],
   "source": [
    "cbind( df$Known_Cancer_Predisposition_Genes %>% table )"
   ]
  },
  {
   "cell_type": "code",
   "execution_count": 9,
   "metadata": {},
   "outputs": [],
   "source": [
    "df = df[df$Known_Cancer_Predisposition_Genes == 'known',]\n",
    "df =droplevels(df)"
   ]
  },
  {
   "cell_type": "code",
   "execution_count": 10,
   "metadata": {},
   "outputs": [
    {
     "data": {
      "text/html": [
       "<ol class=list-inline>\n",
       "\t<li>290</li>\n",
       "\t<li>84</li>\n",
       "</ol>\n"
      ],
      "text/latex": [
       "\\begin{enumerate*}\n",
       "\\item 290\n",
       "\\item 84\n",
       "\\end{enumerate*}\n"
      ],
      "text/markdown": [
       "1. 290\n",
       "2. 84\n",
       "\n",
       "\n"
      ],
      "text/plain": [
       "[1] 290  84"
      ]
     },
     "metadata": {},
     "output_type": "display_data"
    }
   ],
   "source": [
    "df%>% dim"
   ]
  },
  {
   "cell_type": "code",
   "execution_count": 11,
   "metadata": {},
   "outputs": [
    {
     "data": {
      "text/plain": [
       ".\n",
       "   AD    AR AR/AD   XLD \n",
       "  153    92    43     2 "
      ]
     },
     "metadata": {},
     "output_type": "display_data"
    }
   ],
   "source": [
    "df$Mode_of_Inheritance_abb %>% table"
   ]
  },
  {
   "cell_type": "code",
   "execution_count": 12,
   "metadata": {},
   "outputs": [
    {
     "data": {
      "text/plain": [
       "       \n",
       "        Het Hom\n",
       "  AD    153   0\n",
       "  AR     92   0\n",
       "  AR/AD  43   0\n",
       "  XLD     1   1"
      ]
     },
     "metadata": {},
     "output_type": "display_data"
    }
   ],
   "source": [
    "table(df$Mode_of_Inheritance_abb , df$genotype)"
   ]
  },
  {
   "cell_type": "markdown",
   "metadata": {},
   "source": [
    "## Remove AR"
   ]
  },
  {
   "cell_type": "code",
   "execution_count": 13,
   "metadata": {},
   "outputs": [],
   "source": [
    "df = df[df$Mode_of_Inheritance_abb != 'AR',]\n",
    "df = droplevels(df)"
   ]
  },
  {
   "cell_type": "code",
   "execution_count": 14,
   "metadata": {},
   "outputs": [
    {
     "data": {
      "text/html": [
       "<ol class=list-inline>\n",
       "\t<li>198</li>\n",
       "\t<li>84</li>\n",
       "</ol>\n"
      ],
      "text/latex": [
       "\\begin{enumerate*}\n",
       "\\item 198\n",
       "\\item 84\n",
       "\\end{enumerate*}\n"
      ],
      "text/markdown": [
       "1. 198\n",
       "2. 84\n",
       "\n",
       "\n"
      ],
      "text/plain": [
       "[1] 198  84"
      ]
     },
     "metadata": {},
     "output_type": "display_data"
    }
   ],
   "source": [
    "df %>% dim"
   ]
  },
  {
   "cell_type": "code",
   "execution_count": 15,
   "metadata": {},
   "outputs": [
    {
     "data": {
      "text/plain": [
       ".\n",
       "   AD AR/AD   XLD \n",
       "  153    43     2 "
      ]
     },
     "metadata": {},
     "output_type": "display_data"
    }
   ],
   "source": [
    "# sanity check\n",
    "df$Mode_of_Inheritance_abb %>% table"
   ]
  },
  {
   "cell_type": "code",
   "execution_count": 16,
   "metadata": {},
   "outputs": [
    {
     "data": {
      "text/html": [
       "182"
      ],
      "text/latex": [
       "182"
      ],
      "text/markdown": [
       "182"
      ],
      "text/plain": [
       "[1] 182"
      ]
     },
     "metadata": {},
     "output_type": "display_data"
    }
   ],
   "source": [
    "len( unique(df$Tumor_Sample_Barcode) )"
   ]
  },
  {
   "cell_type": "code",
   "execution_count": 17,
   "metadata": {},
   "outputs": [
    {
     "data": {
      "text/html": [
       "54"
      ],
      "text/latex": [
       "54"
      ],
      "text/markdown": [
       "54"
      ],
      "text/plain": [
       "[1] 54"
      ]
     },
     "metadata": {},
     "output_type": "display_data"
    }
   ],
   "source": [
    "len( unique(df$Hugo_Symbol) )"
   ]
  },
  {
   "cell_type": "markdown",
   "metadata": {},
   "source": [
    "## EDA Clinical_Data"
   ]
  },
  {
   "cell_type": "code",
   "execution_count": 18,
   "metadata": {
    "collapsed": true
   },
   "outputs": [],
   "source": [
    "file_name_clinical = \"../KCPG_Variants/data/Combined_Clinical_Data_03.xlsx\""
   ]
  },
  {
   "cell_type": "code",
   "execution_count": 19,
   "metadata": {
    "collapsed": true
   },
   "outputs": [],
   "source": [
    "df2 = readxl::read_excel( file_name_clinical )"
   ]
  },
  {
   "cell_type": "code",
   "execution_count": 20,
   "metadata": {},
   "outputs": [
    {
     "data": {
      "text/html": [
       "<ol class=list-inline>\n",
       "\t<li>'Tumor_Sample_Barcode'</li>\n",
       "\t<li>'Tumor_type'</li>\n",
       "\t<li>'Tumor_type2'</li>\n",
       "\t<li>'Age_of_Onset'</li>\n",
       "\t<li>'Sex'</li>\n",
       "\t<li>'Age_group'</li>\n",
       "\t<li>'sample_type'</li>\n",
       "\t<li>'sequencing_type'</li>\n",
       "\t<li>'Access_unit'</li>\n",
       "\t<li>'Status'</li>\n",
       "\t<li>'Ethnicity'</li>\n",
       "\t<li>'Race'</li>\n",
       "</ol>\n"
      ],
      "text/latex": [
       "\\begin{enumerate*}\n",
       "\\item 'Tumor\\_Sample\\_Barcode'\n",
       "\\item 'Tumor\\_type'\n",
       "\\item 'Tumor\\_type2'\n",
       "\\item 'Age\\_of\\_Onset'\n",
       "\\item 'Sex'\n",
       "\\item 'Age\\_group'\n",
       "\\item 'sample\\_type'\n",
       "\\item 'sequencing\\_type'\n",
       "\\item 'Access\\_unit'\n",
       "\\item 'Status'\n",
       "\\item 'Ethnicity'\n",
       "\\item 'Race'\n",
       "\\end{enumerate*}\n"
      ],
      "text/markdown": [
       "1. 'Tumor_Sample_Barcode'\n",
       "2. 'Tumor_type'\n",
       "3. 'Tumor_type2'\n",
       "4. 'Age_of_Onset'\n",
       "5. 'Sex'\n",
       "6. 'Age_group'\n",
       "7. 'sample_type'\n",
       "8. 'sequencing_type'\n",
       "9. 'Access_unit'\n",
       "10. 'Status'\n",
       "11. 'Ethnicity'\n",
       "12. 'Race'\n",
       "\n",
       "\n"
      ],
      "text/plain": [
       " [1] \"Tumor_Sample_Barcode\" \"Tumor_type\"           \"Tumor_type2\"         \n",
       " [4] \"Age_of_Onset\"         \"Sex\"                  \"Age_group\"           \n",
       " [7] \"sample_type\"          \"sequencing_type\"      \"Access_unit\"         \n",
       "[10] \"Status\"               \"Ethnicity\"            \"Race\"                "
      ]
     },
     "metadata": {},
     "output_type": "display_data"
    }
   ],
   "source": [
    "colnames(df2)"
   ]
  },
  {
   "cell_type": "code",
   "execution_count": 21,
   "metadata": {},
   "outputs": [
    {
     "data": {
      "text/plain": [
       "                                      \n",
       "                                       CCF PCGP SJLIFE\n",
       "  Adrenocortical Carcinoma               1   19      2\n",
       "  Basal Cell Carcinoma                   0    0      1\n",
       "  Carcinoma                              0    0     14\n",
       "  Central Nervous System                 1    0    322\n",
       "  Ewing's Sarcoma                        6    0     89\n",
       "  Germ Cell Tumor                        1    0     73\n",
       "  Giant Cell Tumor                       0    0      3\n",
       "  High Grade Glioma                      5   75      0\n",
       "  Low Grade Glioma                       2   15      7\n",
       "  Low Malignant Potential Renal Tumors   2    0      0\n",
       "  Neuroblastoma                          3   48    139\n",
       "  Non-Malignant Tumor                    1    0      3\n",
       "  Osteosarcoma                          14    2    113\n",
       "  Other Solid Tumor                      0    0     10\n",
       "  Paraganglioma                          0    0      1\n",
       "  Renal Cell Carcinoma                   1    0      2\n",
       "  Retinoblastoma                         0    0     98\n",
       "  Rhabdomyosarcoma                       3   29    102\n",
       "  Soft Tissue Sarcoma                    8    0     85\n",
       "  Wilms' tumor                           2    0    205"
      ]
     },
     "metadata": {},
     "output_type": "display_data"
    }
   ],
   "source": [
    "table(df2$Tumor_type , df2$Access_unit )"
   ]
  },
  {
   "cell_type": "code",
   "execution_count": 22,
   "metadata": {},
   "outputs": [
    {
     "data": {
      "text/html": [
       "<table>\n",
       "<thead><tr><th scope=col>f</th><th scope=col>n</th></tr></thead>\n",
       "<tbody>\n",
       "\t<tr><td>Central Nervous System              </td><td>323                                 </td></tr>\n",
       "\t<tr><td>Wilms' tumor                        </td><td>207                                 </td></tr>\n",
       "\t<tr><td>Neuroblastoma                       </td><td>190                                 </td></tr>\n",
       "\t<tr><td>Rhabdomyosarcoma                    </td><td>134                                 </td></tr>\n",
       "\t<tr><td>Osteosarcoma                        </td><td>129                                 </td></tr>\n",
       "\t<tr><td>Retinoblastoma                      </td><td> 98                                 </td></tr>\n",
       "\t<tr><td>Ewing's Sarcoma                     </td><td> 95                                 </td></tr>\n",
       "\t<tr><td>Soft Tissue Sarcoma                 </td><td> 93                                 </td></tr>\n",
       "\t<tr><td>High Grade Glioma                   </td><td> 80                                 </td></tr>\n",
       "\t<tr><td>Germ Cell Tumor                     </td><td> 74                                 </td></tr>\n",
       "\t<tr><td>Low Grade Glioma                    </td><td> 24                                 </td></tr>\n",
       "\t<tr><td>Adrenocortical Carcinoma            </td><td> 22                                 </td></tr>\n",
       "\t<tr><td>Carcinoma                           </td><td> 14                                 </td></tr>\n",
       "\t<tr><td>Other Solid Tumor                   </td><td> 10                                 </td></tr>\n",
       "\t<tr><td>Non-Malignant Tumor                 </td><td>  4                                 </td></tr>\n",
       "\t<tr><td>Giant Cell Tumor                    </td><td>  3                                 </td></tr>\n",
       "\t<tr><td>Renal Cell Carcinoma                </td><td>  3                                 </td></tr>\n",
       "\t<tr><td>Low Malignant Potential Renal Tumors</td><td>  2                                 </td></tr>\n",
       "\t<tr><td>Basal Cell Carcinoma                </td><td>  1                                 </td></tr>\n",
       "\t<tr><td>Paraganglioma                       </td><td>  1                                 </td></tr>\n",
       "</tbody>\n",
       "</table>\n"
      ],
      "text/latex": [
       "\\begin{tabular}{r|ll}\n",
       " f & n\\\\\n",
       "\\hline\n",
       "\t Central Nervous System               & 323                                 \\\\\n",
       "\t Wilms' tumor                         & 207                                 \\\\\n",
       "\t Neuroblastoma                        & 190                                 \\\\\n",
       "\t Rhabdomyosarcoma                     & 134                                 \\\\\n",
       "\t Osteosarcoma                         & 129                                 \\\\\n",
       "\t Retinoblastoma                       &  98                                 \\\\\n",
       "\t Ewing's Sarcoma                      &  95                                 \\\\\n",
       "\t Soft Tissue Sarcoma                  &  93                                 \\\\\n",
       "\t High Grade Glioma                    &  80                                 \\\\\n",
       "\t Germ Cell Tumor                      &  74                                 \\\\\n",
       "\t Low Grade Glioma                     &  24                                 \\\\\n",
       "\t Adrenocortical Carcinoma             &  22                                 \\\\\n",
       "\t Carcinoma                            &  14                                 \\\\\n",
       "\t Other Solid Tumor                    &  10                                 \\\\\n",
       "\t Non-Malignant Tumor                  &   4                                 \\\\\n",
       "\t Giant Cell Tumor                     &   3                                 \\\\\n",
       "\t Renal Cell Carcinoma                 &   3                                 \\\\\n",
       "\t Low Malignant Potential Renal Tumors &   2                                 \\\\\n",
       "\t Basal Cell Carcinoma                 &   1                                 \\\\\n",
       "\t Paraganglioma                        &   1                                 \\\\\n",
       "\\end{tabular}\n"
      ],
      "text/markdown": [
       "\n",
       "| f | n |\n",
       "|---|---|\n",
       "| Central Nervous System               | 323                                  |\n",
       "| Wilms' tumor                         | 207                                  |\n",
       "| Neuroblastoma                        | 190                                  |\n",
       "| Rhabdomyosarcoma                     | 134                                  |\n",
       "| Osteosarcoma                         | 129                                  |\n",
       "| Retinoblastoma                       |  98                                  |\n",
       "| Ewing's Sarcoma                      |  95                                  |\n",
       "| Soft Tissue Sarcoma                  |  93                                  |\n",
       "| High Grade Glioma                    |  80                                  |\n",
       "| Germ Cell Tumor                      |  74                                  |\n",
       "| Low Grade Glioma                     |  24                                  |\n",
       "| Adrenocortical Carcinoma             |  22                                  |\n",
       "| Carcinoma                            |  14                                  |\n",
       "| Other Solid Tumor                    |  10                                  |\n",
       "| Non-Malignant Tumor                  |   4                                  |\n",
       "| Giant Cell Tumor                     |   3                                  |\n",
       "| Renal Cell Carcinoma                 |   3                                  |\n",
       "| Low Malignant Potential Renal Tumors |   2                                  |\n",
       "| Basal Cell Carcinoma                 |   1                                  |\n",
       "| Paraganglioma                        |   1                                  |\n",
       "\n"
      ],
      "text/plain": [
       "   f                                    n  \n",
       "1  Central Nervous System               323\n",
       "2  Wilms' tumor                         207\n",
       "3  Neuroblastoma                        190\n",
       "4  Rhabdomyosarcoma                     134\n",
       "5  Osteosarcoma                         129\n",
       "6  Retinoblastoma                        98\n",
       "7  Ewing's Sarcoma                       95\n",
       "8  Soft Tissue Sarcoma                   93\n",
       "9  High Grade Glioma                     80\n",
       "10 Germ Cell Tumor                       74\n",
       "11 Low Grade Glioma                      24\n",
       "12 Adrenocortical Carcinoma              22\n",
       "13 Carcinoma                             14\n",
       "14 Other Solid Tumor                     10\n",
       "15 Non-Malignant Tumor                    4\n",
       "16 Giant Cell Tumor                       3\n",
       "17 Renal Cell Carcinoma                   3\n",
       "18 Low Malignant Potential Renal Tumors   2\n",
       "19 Basal Cell Carcinoma                   1\n",
       "20 Paraganglioma                          1"
      ]
     },
     "metadata": {},
     "output_type": "display_data"
    }
   ],
   "source": [
    "fct_count( df2$Tumor_type , sort = T)"
   ]
  },
  {
   "cell_type": "code",
   "execution_count": 23,
   "metadata": {},
   "outputs": [
    {
     "data": {
      "text/plain": [
       "                                      \n",
       "                                       ACT BCC  CA CNS EWS GCT GICT HGG LGG\n",
       "  Adrenocortical Carcinoma              22   0   0   0   0   0    0   0   0\n",
       "  Basal Cell Carcinoma                   0   1   0   0   0   0    0   0   0\n",
       "  Carcinoma                              0   0  14   0   0   0    0   0   0\n",
       "  Central Nervous System                 0   0   0 323   0   0    0   0   0\n",
       "  Ewing's Sarcoma                        0   0   0   0  95   0    0   0   0\n",
       "  Germ Cell Tumor                        0   0   0   0   0  74    0   0   0\n",
       "  Giant Cell Tumor                       0   0   0   0   0   0    3   0   0\n",
       "  High Grade Glioma                      0   0   0   0   0   0    0  80   0\n",
       "  Low Grade Glioma                       0   0   0   0   0   0    0   0  24\n",
       "  Low Malignant Potential Renal Tumors   0   0   0   0   0   0    0   0   0\n",
       "  Neuroblastoma                          0   0   0   0   0   0    0   0   0\n",
       "  Non-Malignant Tumor                    0   0   0   0   0   0    0   0   0\n",
       "  Osteosarcoma                           0   0   0   0   0   0    0   0   0\n",
       "  Other Solid Tumor                      0   0   0   0   0   0    0   0   0\n",
       "  Paraganglioma                          0   0   0   0   0   0    0   0   0\n",
       "  Renal Cell Carcinoma                   0   0   0   0   0   0    0   0   0\n",
       "  Retinoblastoma                         0   0   0   0   0   0    0   0   0\n",
       "  Rhabdomyosarcoma                       0   0   0   0   0   0    0   0   0\n",
       "  Soft Tissue Sarcoma                    0   0   0   0   0   0    0   0   0\n",
       "  Wilms' tumor                           0   0   0   0   0   0    0   0   0\n",
       "                                      \n",
       "                                       LMPRT NBL  NM  OS OST PGL  RB RCC RHB\n",
       "  Adrenocortical Carcinoma                 0   0   0   0   0   0   0   0   0\n",
       "  Basal Cell Carcinoma                     0   0   0   0   0   0   0   0   0\n",
       "  Carcinoma                                0   0   0   0   0   0   0   0   0\n",
       "  Central Nervous System                   0   0   0   0   0   0   0   0   0\n",
       "  Ewing's Sarcoma                          0   0   0   0   0   0   0   0   0\n",
       "  Germ Cell Tumor                          0   0   0   0   0   0   0   0   0\n",
       "  Giant Cell Tumor                         0   0   0   0   0   0   0   0   0\n",
       "  High Grade Glioma                        0   0   0   0   0   0   0   0   0\n",
       "  Low Grade Glioma                         0   0   0   0   0   0   0   0   0\n",
       "  Low Malignant Potential Renal Tumors     2   0   0   0   0   0   0   0   0\n",
       "  Neuroblastoma                            0 190   0   0   0   0   0   0   0\n",
       "  Non-Malignant Tumor                      0   0   4   0   0   0   0   0   0\n",
       "  Osteosarcoma                             0   0   0 129   0   0   0   0   0\n",
       "  Other Solid Tumor                        0   0   0   0  10   0   0   0   0\n",
       "  Paraganglioma                            0   0   0   0   0   1   0   0   0\n",
       "  Renal Cell Carcinoma                     0   0   0   0   0   0   0   3   0\n",
       "  Retinoblastoma                           0   0   0   0   0   0  98   0   0\n",
       "  Rhabdomyosarcoma                         0   0   0   0   0   0   0   0 134\n",
       "  Soft Tissue Sarcoma                      0   0   0   0   0   0   0   0   0\n",
       "  Wilms' tumor                             0   0   0   0   0   0   0   0   0\n",
       "                                      \n",
       "                                       STS WLM\n",
       "  Adrenocortical Carcinoma               0   0\n",
       "  Basal Cell Carcinoma                   0   0\n",
       "  Carcinoma                              0   0\n",
       "  Central Nervous System                 0   0\n",
       "  Ewing's Sarcoma                        0   0\n",
       "  Germ Cell Tumor                        0   0\n",
       "  Giant Cell Tumor                       0   0\n",
       "  High Grade Glioma                      0   0\n",
       "  Low Grade Glioma                       0   0\n",
       "  Low Malignant Potential Renal Tumors   0   0\n",
       "  Neuroblastoma                          0   0\n",
       "  Non-Malignant Tumor                    0   0\n",
       "  Osteosarcoma                           0   0\n",
       "  Other Solid Tumor                      0   0\n",
       "  Paraganglioma                          0   0\n",
       "  Renal Cell Carcinoma                   0   0\n",
       "  Retinoblastoma                         0   0\n",
       "  Rhabdomyosarcoma                       0   0\n",
       "  Soft Tissue Sarcoma                   93   0\n",
       "  Wilms' tumor                           0 207"
      ]
     },
     "metadata": {},
     "output_type": "display_data"
    }
   ],
   "source": [
    "## sanity check\n",
    "table(df2$Tumor_type , df2$Tumor_type2 )"
   ]
  },
  {
   "cell_type": "code",
   "execution_count": 24,
   "metadata": {},
   "outputs": [
    {
     "data": {
      "text/html": [
       "<ol class=list-inline>\n",
       "\t<li>198</li>\n",
       "\t<li>84</li>\n",
       "</ol>\n"
      ],
      "text/latex": [
       "\\begin{enumerate*}\n",
       "\\item 198\n",
       "\\item 84\n",
       "\\end{enumerate*}\n"
      ],
      "text/markdown": [
       "1. 198\n",
       "2. 84\n",
       "\n",
       "\n"
      ],
      "text/plain": [
       "[1] 198  84"
      ]
     },
     "metadata": {},
     "output_type": "display_data"
    },
    {
     "data": {
      "text/html": [
       "<ol class=list-inline>\n",
       "\t<li>1507</li>\n",
       "\t<li>12</li>\n",
       "</ol>\n"
      ],
      "text/latex": [
       "\\begin{enumerate*}\n",
       "\\item 1507\n",
       "\\item 12\n",
       "\\end{enumerate*}\n"
      ],
      "text/markdown": [
       "1. 1507\n",
       "2. 12\n",
       "\n",
       "\n"
      ],
      "text/plain": [
       "[1] 1507   12"
      ]
     },
     "metadata": {},
     "output_type": "display_data"
    }
   ],
   "source": [
    "## sanity check\n",
    "df %>% dim\n",
    "df2 %>% dim"
   ]
  },
  {
   "cell_type": "code",
   "execution_count": 25,
   "metadata": {},
   "outputs": [],
   "source": [
    "ttype =\"Carcinoma\""
   ]
  },
  {
   "cell_type": "code",
   "execution_count": 26,
   "metadata": {},
   "outputs": [],
   "source": [
    "df2_ss = df2[df2$Tumor_type == ttype,]\n",
    "ss =df$Tumor_Sample_Barcode %in% intersect( df$Tumor_Sample_Barcode, unique( df2_ss$Tumor_Sample_Barcode ))\n",
    "df_ss = df[ ss, ]\n",
    "df_ss = droplevels(df_ss)\n",
    "df2_ss = droplevels(df2_ss)"
   ]
  },
  {
   "cell_type": "code",
   "execution_count": 27,
   "metadata": {},
   "outputs": [],
   "source": [
    "df_ss$Hugo_Symbol=as.character(df_ss$Hugo_Symbol) "
   ]
  },
  {
   "cell_type": "code",
   "execution_count": 28,
   "metadata": {},
   "outputs": [
    {
     "data": {
      "text/plain": [
       "           \n",
       "            CA\n",
       "  Carcinoma 14"
      ]
     },
     "metadata": {},
     "output_type": "display_data"
    }
   ],
   "source": [
    "table(df2_ss$Tumor_type , df2_ss$Tumor_type2 )"
   ]
  },
  {
   "cell_type": "code",
   "execution_count": 29,
   "metadata": {},
   "outputs": [
    {
     "data": {
      "text/html": [],
      "text/latex": [],
      "text/markdown": [],
      "text/plain": [
       "character(0)"
      ]
     },
     "metadata": {},
     "output_type": "display_data"
    }
   ],
   "source": [
    "setdiff( df_ss$Tumor_Sample_Barcode, df2_ss$Tumor_Sample_Barcode)"
   ]
  },
  {
   "cell_type": "code",
   "execution_count": 34,
   "metadata": {},
   "outputs": [
    {
     "data": {
      "text/html": [
       "<table>\n",
       "<tbody>\n",
       "\t<tr><td> 0</td><td>14</td></tr>\n",
       "\t<tr><td>84</td><td>12</td></tr>\n",
       "</tbody>\n",
       "</table>\n"
      ],
      "text/latex": [
       "\\begin{tabular}{ll}\n",
       "\t  0 & 14\\\\\n",
       "\t 84 & 12\\\\\n",
       "\\end{tabular}\n"
      ],
      "text/markdown": [
       "\n",
       "|  0 | 14 |\n",
       "| 84 | 12 |\n",
       "\n"
      ],
      "text/plain": [
       "     [,1] [,2]\n",
       "[1,]  0   14  \n",
       "[2,] 84   12  "
      ]
     },
     "metadata": {},
     "output_type": "display_data"
    }
   ],
   "source": [
    "cbind(dim(df_ss), dim(df2_ss))"
   ]
  },
  {
   "cell_type": "code",
   "execution_count": 40,
   "metadata": {},
   "outputs": [
    {
     "data": {
      "text/html": [
       "<ol class=list-inline>\n",
       "\t<li>'SJCA019119'</li>\n",
       "\t<li>'SJCA019120'</li>\n",
       "\t<li>'SJCA041980'</li>\n",
       "\t<li>'SJCA042494'</li>\n",
       "\t<li>'SJCA019116'</li>\n",
       "\t<li>'SJCA017893'</li>\n",
       "\t<li>'SJCA042488'</li>\n",
       "\t<li>'SJCA019117'</li>\n",
       "\t<li>'SJCA042484'</li>\n",
       "\t<li>'SJCA041905'</li>\n",
       "\t<li>'SJCA018563'</li>\n",
       "\t<li>'SJCA019767'</li>\n",
       "\t<li>'SJCA041981'</li>\n",
       "\t<li>'SJCA019193'</li>\n",
       "</ol>\n"
      ],
      "text/latex": [
       "\\begin{enumerate*}\n",
       "\\item 'SJCA019119'\n",
       "\\item 'SJCA019120'\n",
       "\\item 'SJCA041980'\n",
       "\\item 'SJCA042494'\n",
       "\\item 'SJCA019116'\n",
       "\\item 'SJCA017893'\n",
       "\\item 'SJCA042488'\n",
       "\\item 'SJCA019117'\n",
       "\\item 'SJCA042484'\n",
       "\\item 'SJCA041905'\n",
       "\\item 'SJCA018563'\n",
       "\\item 'SJCA019767'\n",
       "\\item 'SJCA041981'\n",
       "\\item 'SJCA019193'\n",
       "\\end{enumerate*}\n"
      ],
      "text/markdown": [
       "1. 'SJCA019119'\n",
       "2. 'SJCA019120'\n",
       "3. 'SJCA041980'\n",
       "4. 'SJCA042494'\n",
       "5. 'SJCA019116'\n",
       "6. 'SJCA017893'\n",
       "7. 'SJCA042488'\n",
       "8. 'SJCA019117'\n",
       "9. 'SJCA042484'\n",
       "10. 'SJCA041905'\n",
       "11. 'SJCA018563'\n",
       "12. 'SJCA019767'\n",
       "13. 'SJCA041981'\n",
       "14. 'SJCA019193'\n",
       "\n",
       "\n"
      ],
      "text/plain": [
       " [1] \"SJCA019119\" \"SJCA019120\" \"SJCA041980\" \"SJCA042494\" \"SJCA019116\"\n",
       " [6] \"SJCA017893\" \"SJCA042488\" \"SJCA019117\" \"SJCA042484\" \"SJCA041905\"\n",
       "[11] \"SJCA018563\" \"SJCA019767\" \"SJCA041981\" \"SJCA019193\""
      ]
     },
     "metadata": {},
     "output_type": "display_data"
    }
   ],
   "source": [
    "df2_ss$Tumor_Sample_Barcode"
   ]
  },
  {
   "cell_type": "code",
   "execution_count": 45,
   "metadata": {},
   "outputs": [
    {
     "data": {
      "text/html": [],
      "text/latex": [],
      "text/markdown": [],
      "text/plain": [
       "character(0)"
      ]
     },
     "metadata": {},
     "output_type": "display_data"
    }
   ],
   "source": [
    "intersect( df$Tumor_Sample_Barcode, df2_ss$Tumor_Sample_Barcode)"
   ]
  },
  {
   "cell_type": "code",
   "execution_count": 47,
   "metadata": {},
   "outputs": [
    {
     "data": {
      "text/html": [
       "<table>\n",
       "<thead><tr><th scope=col>Tumor_Sample_Barcode</th><th scope=col>Tumor_type</th><th scope=col>Tumor_type2</th><th scope=col>Age_of_Onset</th><th scope=col>Sex</th><th scope=col>Age_group</th><th scope=col>sample_type</th><th scope=col>sequencing_type</th><th scope=col>Access_unit</th><th scope=col>Status</th><th scope=col>Ethnicity</th><th scope=col>Race</th></tr></thead>\n",
       "<tbody>\n",
       "\t<tr><td>SJCA019119                        </td><td>Carcinoma                         </td><td>CA                                </td><td>10.94                             </td><td>Male                              </td><td>Children                          </td><td>germline                          </td><td>WES                               </td><td>SJLIFE                            </td><td>live                              </td><td>Non Spanish speaking, Non Hispanic</td><td>NA                                </td></tr>\n",
       "\t<tr><td>SJCA019120                        </td><td>Carcinoma                         </td><td>CA                                </td><td>12.30                             </td><td>Female                            </td><td>Children                          </td><td>germline                          </td><td>WES                               </td><td>SJLIFE                            </td><td>live                              </td><td>Non Spanish speaking, Non Hispanic</td><td>NA                                </td></tr>\n",
       "\t<tr><td>SJCA041980                        </td><td>Carcinoma                         </td><td>CA                                </td><td>12.77                             </td><td>Female                            </td><td>Children                          </td><td>germline                          </td><td>WES                               </td><td>SJLIFE                            </td><td>live                              </td><td>Non Spanish speaking, Non Hispanic</td><td>NA                                </td></tr>\n",
       "\t<tr><td>SJCA042494                        </td><td>Carcinoma                         </td><td>CA                                </td><td>13.11                             </td><td>Female                            </td><td>Children                          </td><td>germline                          </td><td>WES                               </td><td>SJLIFE                            </td><td>live                              </td><td>Non Spanish speaking, Non Hispanic</td><td>NA                                </td></tr>\n",
       "\t<tr><td>SJCA019116                        </td><td>Carcinoma                         </td><td>CA                                </td><td>13.28                             </td><td>Male                              </td><td>Children                          </td><td>germline                          </td><td>WES                               </td><td>SJLIFE                            </td><td>live                              </td><td>Non Spanish speaking, Non Hispanic</td><td>NA                                </td></tr>\n",
       "\t<tr><td>SJCA017893                        </td><td>Carcinoma                         </td><td>CA                                </td><td>13.64                             </td><td>Male                              </td><td>Children                          </td><td>germline                          </td><td>WES                               </td><td>SJLIFE                            </td><td>live                              </td><td>Non Spanish speaking, Non Hispanic</td><td>NA                                </td></tr>\n",
       "\t<tr><td>SJCA042488                        </td><td>Carcinoma                         </td><td>CA                                </td><td>13.84                             </td><td>Female                            </td><td>Children                          </td><td>germline                          </td><td>WES                               </td><td>SJLIFE                            </td><td>live                              </td><td>Non Spanish speaking, Non Hispanic</td><td>NA                                </td></tr>\n",
       "\t<tr><td>SJCA019117                        </td><td>Carcinoma                         </td><td>CA                                </td><td>15.34                             </td><td>Female                            </td><td>Adolescent                        </td><td>germline                          </td><td>WES                               </td><td>SJLIFE                            </td><td>live                              </td><td>Non Spanish speaking, Non Hispanic</td><td>NA                                </td></tr>\n",
       "\t<tr><td>SJCA042484                        </td><td>Carcinoma                         </td><td>CA                                </td><td>15.51                             </td><td>Female                            </td><td>Adolescent                        </td><td>germline                          </td><td>WES                               </td><td>SJLIFE                            </td><td>live                              </td><td>Non Spanish speaking, Non Hispanic</td><td>NA                                </td></tr>\n",
       "\t<tr><td>SJCA041905                        </td><td>Carcinoma                         </td><td>CA                                </td><td>15.80                             </td><td>Female                            </td><td>Adolescent                        </td><td>germline                          </td><td>WES                               </td><td>SJLIFE                            </td><td>live                              </td><td>Non Spanish speaking, Non Hispanic</td><td>NA                                </td></tr>\n",
       "\t<tr><td>SJCA018563                        </td><td>Carcinoma                         </td><td>CA                                </td><td>16.31                             </td><td>Male                              </td><td>Adolescent                        </td><td>germline                          </td><td>WES                               </td><td>SJLIFE                            </td><td>live                              </td><td>Non Spanish speaking, Non Hispanic</td><td>NA                                </td></tr>\n",
       "\t<tr><td>SJCA019767                        </td><td>Carcinoma                         </td><td>CA                                </td><td>16.99                             </td><td>Female                            </td><td>Adolescent                        </td><td>germline                          </td><td>WES                               </td><td>SJLIFE                            </td><td>live                              </td><td>Non Spanish speaking, Non Hispanic</td><td>NA                                </td></tr>\n",
       "\t<tr><td>SJCA041981                        </td><td>Carcinoma                         </td><td>CA                                </td><td>17.29                             </td><td>Female                            </td><td>Adolescent                        </td><td>germline                          </td><td>WES                               </td><td>SJLIFE                            </td><td>live                              </td><td>Non Spanish speaking, Non Hispanic</td><td>NA                                </td></tr>\n",
       "\t<tr><td>SJCA019193                        </td><td>Carcinoma                         </td><td>CA                                </td><td>17.92                             </td><td>Male                              </td><td>Adolescent                        </td><td>germline                          </td><td>WES                               </td><td>SJLIFE                            </td><td>live                              </td><td>Non Spanish speaking, Non Hispanic</td><td>NA                                </td></tr>\n",
       "</tbody>\n",
       "</table>\n"
      ],
      "text/latex": [
       "\\begin{tabular}{r|llllllllllll}\n",
       " Tumor\\_Sample\\_Barcode & Tumor\\_type & Tumor\\_type2 & Age\\_of\\_Onset & Sex & Age\\_group & sample\\_type & sequencing\\_type & Access\\_unit & Status & Ethnicity & Race\\\\\n",
       "\\hline\n",
       "\t SJCA019119                         & Carcinoma                          & CA                                 & 10.94                              & Male                               & Children                           & germline                           & WES                                & SJLIFE                             & live                               & Non Spanish speaking, Non Hispanic & NA                                \\\\\n",
       "\t SJCA019120                         & Carcinoma                          & CA                                 & 12.30                              & Female                             & Children                           & germline                           & WES                                & SJLIFE                             & live                               & Non Spanish speaking, Non Hispanic & NA                                \\\\\n",
       "\t SJCA041980                         & Carcinoma                          & CA                                 & 12.77                              & Female                             & Children                           & germline                           & WES                                & SJLIFE                             & live                               & Non Spanish speaking, Non Hispanic & NA                                \\\\\n",
       "\t SJCA042494                         & Carcinoma                          & CA                                 & 13.11                              & Female                             & Children                           & germline                           & WES                                & SJLIFE                             & live                               & Non Spanish speaking, Non Hispanic & NA                                \\\\\n",
       "\t SJCA019116                         & Carcinoma                          & CA                                 & 13.28                              & Male                               & Children                           & germline                           & WES                                & SJLIFE                             & live                               & Non Spanish speaking, Non Hispanic & NA                                \\\\\n",
       "\t SJCA017893                         & Carcinoma                          & CA                                 & 13.64                              & Male                               & Children                           & germline                           & WES                                & SJLIFE                             & live                               & Non Spanish speaking, Non Hispanic & NA                                \\\\\n",
       "\t SJCA042488                         & Carcinoma                          & CA                                 & 13.84                              & Female                             & Children                           & germline                           & WES                                & SJLIFE                             & live                               & Non Spanish speaking, Non Hispanic & NA                                \\\\\n",
       "\t SJCA019117                         & Carcinoma                          & CA                                 & 15.34                              & Female                             & Adolescent                         & germline                           & WES                                & SJLIFE                             & live                               & Non Spanish speaking, Non Hispanic & NA                                \\\\\n",
       "\t SJCA042484                         & Carcinoma                          & CA                                 & 15.51                              & Female                             & Adolescent                         & germline                           & WES                                & SJLIFE                             & live                               & Non Spanish speaking, Non Hispanic & NA                                \\\\\n",
       "\t SJCA041905                         & Carcinoma                          & CA                                 & 15.80                              & Female                             & Adolescent                         & germline                           & WES                                & SJLIFE                             & live                               & Non Spanish speaking, Non Hispanic & NA                                \\\\\n",
       "\t SJCA018563                         & Carcinoma                          & CA                                 & 16.31                              & Male                               & Adolescent                         & germline                           & WES                                & SJLIFE                             & live                               & Non Spanish speaking, Non Hispanic & NA                                \\\\\n",
       "\t SJCA019767                         & Carcinoma                          & CA                                 & 16.99                              & Female                             & Adolescent                         & germline                           & WES                                & SJLIFE                             & live                               & Non Spanish speaking, Non Hispanic & NA                                \\\\\n",
       "\t SJCA041981                         & Carcinoma                          & CA                                 & 17.29                              & Female                             & Adolescent                         & germline                           & WES                                & SJLIFE                             & live                               & Non Spanish speaking, Non Hispanic & NA                                \\\\\n",
       "\t SJCA019193                         & Carcinoma                          & CA                                 & 17.92                              & Male                               & Adolescent                         & germline                           & WES                                & SJLIFE                             & live                               & Non Spanish speaking, Non Hispanic & NA                                \\\\\n",
       "\\end{tabular}\n"
      ],
      "text/markdown": [
       "\n",
       "| Tumor_Sample_Barcode | Tumor_type | Tumor_type2 | Age_of_Onset | Sex | Age_group | sample_type | sequencing_type | Access_unit | Status | Ethnicity | Race |\n",
       "|---|---|---|---|---|---|---|---|---|---|---|---|\n",
       "| SJCA019119                         | Carcinoma                          | CA                                 | 10.94                              | Male                               | Children                           | germline                           | WES                                | SJLIFE                             | live                               | Non Spanish speaking, Non Hispanic | NA                                 |\n",
       "| SJCA019120                         | Carcinoma                          | CA                                 | 12.30                              | Female                             | Children                           | germline                           | WES                                | SJLIFE                             | live                               | Non Spanish speaking, Non Hispanic | NA                                 |\n",
       "| SJCA041980                         | Carcinoma                          | CA                                 | 12.77                              | Female                             | Children                           | germline                           | WES                                | SJLIFE                             | live                               | Non Spanish speaking, Non Hispanic | NA                                 |\n",
       "| SJCA042494                         | Carcinoma                          | CA                                 | 13.11                              | Female                             | Children                           | germline                           | WES                                | SJLIFE                             | live                               | Non Spanish speaking, Non Hispanic | NA                                 |\n",
       "| SJCA019116                         | Carcinoma                          | CA                                 | 13.28                              | Male                               | Children                           | germline                           | WES                                | SJLIFE                             | live                               | Non Spanish speaking, Non Hispanic | NA                                 |\n",
       "| SJCA017893                         | Carcinoma                          | CA                                 | 13.64                              | Male                               | Children                           | germline                           | WES                                | SJLIFE                             | live                               | Non Spanish speaking, Non Hispanic | NA                                 |\n",
       "| SJCA042488                         | Carcinoma                          | CA                                 | 13.84                              | Female                             | Children                           | germline                           | WES                                | SJLIFE                             | live                               | Non Spanish speaking, Non Hispanic | NA                                 |\n",
       "| SJCA019117                         | Carcinoma                          | CA                                 | 15.34                              | Female                             | Adolescent                         | germline                           | WES                                | SJLIFE                             | live                               | Non Spanish speaking, Non Hispanic | NA                                 |\n",
       "| SJCA042484                         | Carcinoma                          | CA                                 | 15.51                              | Female                             | Adolescent                         | germline                           | WES                                | SJLIFE                             | live                               | Non Spanish speaking, Non Hispanic | NA                                 |\n",
       "| SJCA041905                         | Carcinoma                          | CA                                 | 15.80                              | Female                             | Adolescent                         | germline                           | WES                                | SJLIFE                             | live                               | Non Spanish speaking, Non Hispanic | NA                                 |\n",
       "| SJCA018563                         | Carcinoma                          | CA                                 | 16.31                              | Male                               | Adolescent                         | germline                           | WES                                | SJLIFE                             | live                               | Non Spanish speaking, Non Hispanic | NA                                 |\n",
       "| SJCA019767                         | Carcinoma                          | CA                                 | 16.99                              | Female                             | Adolescent                         | germline                           | WES                                | SJLIFE                             | live                               | Non Spanish speaking, Non Hispanic | NA                                 |\n",
       "| SJCA041981                         | Carcinoma                          | CA                                 | 17.29                              | Female                             | Adolescent                         | germline                           | WES                                | SJLIFE                             | live                               | Non Spanish speaking, Non Hispanic | NA                                 |\n",
       "| SJCA019193                         | Carcinoma                          | CA                                 | 17.92                              | Male                               | Adolescent                         | germline                           | WES                                | SJLIFE                             | live                               | Non Spanish speaking, Non Hispanic | NA                                 |\n",
       "\n"
      ],
      "text/plain": [
       "   Tumor_Sample_Barcode Tumor_type Tumor_type2 Age_of_Onset Sex    Age_group \n",
       "1  SJCA019119           Carcinoma  CA          10.94        Male   Children  \n",
       "2  SJCA019120           Carcinoma  CA          12.30        Female Children  \n",
       "3  SJCA041980           Carcinoma  CA          12.77        Female Children  \n",
       "4  SJCA042494           Carcinoma  CA          13.11        Female Children  \n",
       "5  SJCA019116           Carcinoma  CA          13.28        Male   Children  \n",
       "6  SJCA017893           Carcinoma  CA          13.64        Male   Children  \n",
       "7  SJCA042488           Carcinoma  CA          13.84        Female Children  \n",
       "8  SJCA019117           Carcinoma  CA          15.34        Female Adolescent\n",
       "9  SJCA042484           Carcinoma  CA          15.51        Female Adolescent\n",
       "10 SJCA041905           Carcinoma  CA          15.80        Female Adolescent\n",
       "11 SJCA018563           Carcinoma  CA          16.31        Male   Adolescent\n",
       "12 SJCA019767           Carcinoma  CA          16.99        Female Adolescent\n",
       "13 SJCA041981           Carcinoma  CA          17.29        Female Adolescent\n",
       "14 SJCA019193           Carcinoma  CA          17.92        Male   Adolescent\n",
       "   sample_type sequencing_type Access_unit Status\n",
       "1  germline    WES             SJLIFE      live  \n",
       "2  germline    WES             SJLIFE      live  \n",
       "3  germline    WES             SJLIFE      live  \n",
       "4  germline    WES             SJLIFE      live  \n",
       "5  germline    WES             SJLIFE      live  \n",
       "6  germline    WES             SJLIFE      live  \n",
       "7  germline    WES             SJLIFE      live  \n",
       "8  germline    WES             SJLIFE      live  \n",
       "9  germline    WES             SJLIFE      live  \n",
       "10 germline    WES             SJLIFE      live  \n",
       "11 germline    WES             SJLIFE      live  \n",
       "12 germline    WES             SJLIFE      live  \n",
       "13 germline    WES             SJLIFE      live  \n",
       "14 germline    WES             SJLIFE      live  \n",
       "   Ethnicity                          Race\n",
       "1  Non Spanish speaking, Non Hispanic NA  \n",
       "2  Non Spanish speaking, Non Hispanic NA  \n",
       "3  Non Spanish speaking, Non Hispanic NA  \n",
       "4  Non Spanish speaking, Non Hispanic NA  \n",
       "5  Non Spanish speaking, Non Hispanic NA  \n",
       "6  Non Spanish speaking, Non Hispanic NA  \n",
       "7  Non Spanish speaking, Non Hispanic NA  \n",
       "8  Non Spanish speaking, Non Hispanic NA  \n",
       "9  Non Spanish speaking, Non Hispanic NA  \n",
       "10 Non Spanish speaking, Non Hispanic NA  \n",
       "11 Non Spanish speaking, Non Hispanic NA  \n",
       "12 Non Spanish speaking, Non Hispanic NA  \n",
       "13 Non Spanish speaking, Non Hispanic NA  \n",
       "14 Non Spanish speaking, Non Hispanic NA  "
      ]
     },
     "metadata": {},
     "output_type": "display_data"
    }
   ],
   "source": [
    "df2_ss"
   ]
  },
  {
   "cell_type": "markdown",
   "metadata": {},
   "source": [
    "## Creating a MAF object"
   ]
  },
  {
   "cell_type": "code",
   "execution_count": 33,
   "metadata": {
    "scrolled": false
   },
   "outputs": [
    {
     "ename": "ERROR",
     "evalue": "Error in read.maf(maf = df_ss, clinicalData = df2_ss): No non-synonymous mutations found\nCheck `vc_nonSyn`` argumet in `read.maf` for details\n",
     "output_type": "error",
     "traceback": [
      "Error in read.maf(maf = df_ss, clinicalData = df2_ss): No non-synonymous mutations found\nCheck `vc_nonSyn`` argumet in `read.maf` for details\nTraceback:\n",
      "1. read.maf(maf = df_ss, clinicalData = df2_ss)",
      "2. stop(\"No non-synonymous mutations found\\nCheck `vc_nonSyn`` argumet in `read.maf` for details\")"
     ]
    }
   ],
   "source": [
    "dfx = read.maf(maf=df_ss,clinicalData = df2_ss, isTCGA = FALSE, verbose = F, removeDuplicatedVariants = FALSE, useAll = TRUE )"
   ]
  },
  {
   "cell_type": "code",
   "execution_count": null,
   "metadata": {},
   "outputs": [],
   "source": [
    "dfx@summary"
   ]
  },
  {
   "cell_type": "code",
   "execution_count": null,
   "metadata": {},
   "outputs": [],
   "source": [
    "dfx@gene.summary %>% head"
   ]
  },
  {
   "cell_type": "markdown",
   "metadata": {},
   "source": [
    "# Number of unique genes after making MAF file"
   ]
  },
  {
   "cell_type": "code",
   "execution_count": null,
   "metadata": {},
   "outputs": [],
   "source": [
    "dfx@gene.summary %>% dim"
   ]
  },
  {
   "cell_type": "markdown",
   "metadata": {},
   "source": [
    "### Samples with top variants"
   ]
  },
  {
   "cell_type": "code",
   "execution_count": null,
   "metadata": {},
   "outputs": [],
   "source": [
    "knitr::kable( dfx@variant.type.summary %>% head,format = \"pandoc\")"
   ]
  },
  {
   "cell_type": "code",
   "execution_count": null,
   "metadata": {},
   "outputs": [],
   "source": [
    "knitr::kable( dfx@variants.per.sample %>% head,format = \"pandoc\")"
   ]
  },
  {
   "cell_type": "markdown",
   "metadata": {},
   "source": [
    "### Number of Genes with 2 or more mutations"
   ]
  },
  {
   "cell_type": "code",
   "execution_count": null,
   "metadata": {},
   "outputs": [],
   "source": [
    "gs = as.data.frame( dfx@gene.summary )  \n",
    "gf_sx = nrow( gs[ gs$MutatedSamples >= 2,] )\n",
    "gf_sx"
   ]
  },
  {
   "cell_type": "code",
   "execution_count": null,
   "metadata": {},
   "outputs": [],
   "source": [
    "total_genes=length(gs$Hugo_Symbol)"
   ]
  },
  {
   "cell_type": "code",
   "execution_count": null,
   "metadata": {},
   "outputs": [],
   "source": [
    "total_genes"
   ]
  },
  {
   "cell_type": "code",
   "execution_count": null,
   "metadata": {},
   "outputs": [],
   "source": [
    "gs"
   ]
  },
  {
   "cell_type": "code",
   "execution_count": null,
   "metadata": {},
   "outputs": [],
   "source": [
    "gs_mat = gs %>% dplyr::select(-c('Hugo_Symbol','total', 'AlteredSamples', 'MutatedSamples') )\n",
    "rownames(gs_mat)=gs$Hugo_Symbol\n",
    "options(repr.plot.height=4,repr.plot.width=5)\n",
    "ggballoonplot(gs_mat)"
   ]
  },
  {
   "cell_type": "code",
   "execution_count": null,
   "metadata": {},
   "outputs": [],
   "source": [
    "options(repr.plot.width=5, repr.plot.height=4)\n",
    "gs %>% ggdotchart(\"Hugo_Symbol\",\"MutatedSamples\", \n",
    "                  rotate = TRUE,\n",
    "                  sorting = \"descending\",\n",
    "                  show.label = F,size = \"MutatedSamples\", \n",
    "                  ggtheme = theme_pubr() )"
   ]
  },
  {
   "cell_type": "markdown",
   "metadata": {},
   "source": [
    "### plotmafSummary\n",
    "to plot the summary of the maf file, which displays number of variants in each sample as a stacked barplot and variant types as a boxplot summarized by Variant_Classification."
   ]
  },
  {
   "cell_type": "code",
   "execution_count": null,
   "metadata": {},
   "outputs": [],
   "source": [
    "options(repr.plot.width=12, repr.plot.height=7)\n",
    "plotmafSummary(maf=dfx, rmOutlier=F ,dashboard=TRUE,addStat='median', textSize=2,top=total_genes, showBarcodes=F )"
   ]
  },
  {
   "cell_type": "code",
   "execution_count": null,
   "metadata": {},
   "outputs": [],
   "source": [
    "options(repr.plot.width=12, repr.plot.height=7)\n",
    "out_svg = paste0('../KCPG_Variants/plots/KCP_wo_AR_','TT-',gsub(\"'\",\"\", gsub(' ','_',ttype)),'_plotmafsummary_01.svg')\n",
    "paste0(\"Saving : \", out_svg)\n",
    "svg(out_svg, height=7, width=12)\n",
    "plotmafSummary(maf=dfx, rmOutlier=F ,dashboard=TRUE,addStat='median', textSize=2,top=total_genes, showBarcodes=F )\n",
    "dev.off()"
   ]
  },
  {
   "cell_type": "code",
   "execution_count": null,
   "metadata": {},
   "outputs": [],
   "source": [
    "options(repr.plot.width=9, repr.plot.height=5)\n",
    "plotmafSummary(maf = dfx, rmOutlier = FALSE ,dashboard = F,addStat = 'median', textSize = 2, top = gf_sx, showBarcodes=F )"
   ]
  },
  {
   "cell_type": "markdown",
   "metadata": {},
   "source": [
    "### Oncoplots or waterfall plots\n",
    "- Adding Clinical Data on oncoplot"
   ]
  },
  {
   "cell_type": "markdown",
   "metadata": {},
   "source": [
    "### Make Oncoplots with the total genes from the gene summary"
   ]
  },
  {
   "cell_type": "code",
   "execution_count": null,
   "metadata": {},
   "outputs": [],
   "source": [
    "options(repr.plot.height=7,repr.plot.width=9)\n",
    "oncoplot(maf = dfx,bgCol = \"white\",\n",
    "        top = total_genes,\n",
    "        \n",
    "        fontSize = 10,\n",
    "        SampleNamefontSize = 8,\n",
    "        titleFontSize = 12,\n",
    "        legendFontSize = 14,\n",
    "        annotationTitleFontSize = 10,\n",
    "        annotationFontSize = 9,\n",
    "        \n",
    "        drawColBar = TRUE,\n",
    "        drawRowBar = TRUE,\n",
    "        showTumorSampleBarcodes = F,\n",
    "        sortByAnnotation = TRUE,\n",
    "        writeMatrix = FALSE,\n",
    "        clinicalFeatures = c(\"Age_group\",\"Sex\"))"
   ]
  },
  {
   "cell_type": "code",
   "execution_count": null,
   "metadata": {},
   "outputs": [],
   "source": [
    "out_svg = paste0('../KCPG_Variants/plots/KCP_wo_AR_','TT-',gsub(\"'\",\"\", gsub(' ','_',ttype)),'_oncoplot_01.svg')\n",
    "paste0(\"Saving : \", out_svg)\n",
    "svg(out_svg, height=7, width=9)\n",
    "\n",
    "oncoplot(maf = dfx,bgCol = \"white\",\n",
    "        top = total_genes,\n",
    "        \n",
    "        fontSize = 10,\n",
    "        SampleNamefontSize = 8,\n",
    "        titleFontSize = 12,\n",
    "        legendFontSize = 14,\n",
    "        annotationTitleFontSize = 10,\n",
    "        annotationFontSize = 9,\n",
    "        \n",
    "        drawColBar = TRUE,\n",
    "        drawRowBar = TRUE,\n",
    "        showTumorSampleBarcodes = F,\n",
    "        sortByAnnotation = TRUE,\n",
    "        writeMatrix = FALSE,\n",
    "        clinicalFeatures = c(\"Age_group\",\"Sex\"))\n",
    "dev.off()"
   ]
  },
  {
   "cell_type": "code",
   "execution_count": null,
   "metadata": {},
   "outputs": [],
   "source": [
    "options(repr.plot.width=12, repr.plot.height=6)\n",
    "oncoplot(maf = dfx,bgCol = \"white\",\n",
    "        top = total_genes,\n",
    "        \n",
    "        fontSize = 10,\n",
    "        SampleNamefontSize = 8,\n",
    "        titleFontSize = 12,\n",
    "        legendFontSize = 14,\n",
    "        annotationTitleFontSize = 10,\n",
    "        annotationFontSize = 9,\n",
    "        \n",
    "        drawColBar = TRUE,\n",
    "        drawRowBar = TRUE,\n",
    "        showTumorSampleBarcodes = F,\n",
    "        writeMatrix = FALSE)"
   ]
  },
  {
   "cell_type": "code",
   "execution_count": null,
   "metadata": {},
   "outputs": [],
   "source": [
    "out_svg = paste0('../KCPG_Variants/plots/KCP_wo_AR_','TT-',gsub(\"'\",\"\", gsub(' ','_',ttype)),'_oncoplot_02.svg')\n",
    "paste0(\"Saving : \", out_svg)\n",
    "svg(out_svg, height=7, width=9)\n",
    "\n",
    "oncoplot(maf = dfx,bgCol = \"white\",\n",
    "        top = total_genes,\n",
    "        \n",
    "        fontSize = 10,\n",
    "        SampleNamefontSize = 8,\n",
    "        titleFontSize = 12,\n",
    "        legendFontSize = 14,\n",
    "        annotationTitleFontSize = 10,\n",
    "        annotationFontSize = 9,\n",
    "        \n",
    "        drawColBar = TRUE,\n",
    "        drawRowBar = TRUE,\n",
    "        showTumorSampleBarcodes = F,\n",
    "        writeMatrix = FALSE)\n",
    "dev.off()"
   ]
  },
  {
   "cell_type": "markdown",
   "metadata": {},
   "source": [
    "### Plot Transition and Transversions\n",
    "returns a list of summarized tables in various ways. Summarized data can also be visualized as a boxplot showing overall distribution of six different conversions and as a stacked barplot showing fraction of conversions in each sample."
   ]
  },
  {
   "cell_type": "code",
   "execution_count": null,
   "metadata": {},
   "outputs": [],
   "source": [
    "dfx"
   ]
  },
  {
   "cell_type": "code",
   "execution_count": null,
   "metadata": {},
   "outputs": [],
   "source": [
    "options(repr.plot.width=13,repr.plot.height=6)\n",
    "dfx.titv = titv(maf = dfx, plot = F, useSyn = T  )\n",
    "plotTiTv(res = dfx.titv ,showBarcodes = F, textSize=5)"
   ]
  },
  {
   "cell_type": "code",
   "execution_count": null,
   "metadata": {},
   "outputs": [],
   "source": [
    "options(repr.plot.width=8, repr.plot.height=8)\n",
    "set.seed(42)\n",
    "geneCloud(input = dfx, min=0)"
   ]
  },
  {
   "cell_type": "code",
   "execution_count": null,
   "metadata": {},
   "outputs": [],
   "source": [
    "out_svg = paste0('../KCPG_Variants/plots/KCP_wo_AR_','TT-',gsub(\"'\",\"\", gsub(' ','_',ttype)),'_genecloud_01.svg')\n",
    "paste0(\"Saving : \", out_svg)\n",
    "svg(out_svg, height=8, width=8)\n",
    "set.seed(42)\n",
    "geneCloud(input = dfx, min=0)\n",
    "dev.off()"
   ]
  },
  {
   "cell_type": "code",
   "execution_count": null,
   "metadata": {},
   "outputs": [],
   "source": [
    "options(repr.plot.width=10, repr.plot.height=10)\n",
    "gs = getGeneSummary(dfx)\n",
    "gs = gs[MutatedSamples >=0]\n",
    "set.seed(42)\n",
    "wordcloud::wordcloud(words = gs[, Hugo_Symbol], gs[,MutatedSamples], \n",
    "           min.freq =1,\n",
    "           max.words=50, \n",
    "          random.order=FALSE, \n",
    "          rot.per=0.35, \n",
    "          colors=brewer.pal(8, \"Dark2\"))"
   ]
  },
  {
   "cell_type": "code",
   "execution_count": null,
   "metadata": {},
   "outputs": [],
   "source": [
    "options(repr.plot.width=10, repr.plot.height=10)\n",
    "\n",
    "out_svg = paste0('../KCPG_Variants/plots/KCP_wo_AR_','TT-',gsub(\"'\",\"\", gsub(' ','_',ttype)),'_genecloud_02.svg')\n",
    "paste0(\"Saving : \", out_svg)\n",
    "svg(out_svg, height=9, width=12)\n",
    "gs = getGeneSummary(dfx)\n",
    "gs = gs[MutatedSamples >=0]\n",
    "set.seed(42)\n",
    "wordcloud::wordcloud(words = gs[, Hugo_Symbol], gs[,MutatedSamples], \n",
    "          min.freq = 1,\n",
    "          # max.words=200, \n",
    "          random.order=FALSE, \n",
    "          rot.per=0.45, \n",
    "          colors=brewer.pal(8, \"Dark2\"))\n",
    "dev.off()"
   ]
  },
  {
   "cell_type": "markdown",
   "metadata": {},
   "source": [
    "##  Drug Interactions\n",
    "- plot shows potential druggable gene categories along with upto top 5 genes involved in them. \n",
    "- One can also extract information on drug-gene interactions. \n",
    "- [check this documentation](https://bioconductor.org/packages/release/bioc/vignettes/maftools/inst/doc/maftools.html#98_drug-gene_interactions)"
   ]
  },
  {
   "cell_type": "code",
   "execution_count": null,
   "metadata": {},
   "outputs": [],
   "source": [
    "options(repr.plot.height=6, repr.plot.width=12)\n",
    "dfx_drug =maftools::drugInteractions(dfx, top=gf_sx )"
   ]
  },
  {
   "cell_type": "code",
   "execution_count": null,
   "metadata": {},
   "outputs": [],
   "source": [
    "out_svg = paste0('../KCPG_Variants/plots/KCP_wo_AR_','TT-',gsub(\"'\",\"\", gsub(' ','_',ttype)),'_drugInteractions_01.svg')\n",
    "paste0(\"Saving drug interaction svg to : \", out_svg)\n",
    "svg(out_svg, height=9, width=12)\n",
    "dfx_drug =maftools::drugInteractions(dfx, top=gf_sx)\n",
    "dev.off()"
   ]
  },
  {
   "cell_type": "markdown",
   "metadata": {},
   "source": [
    "## Oncogenic Pathways"
   ]
  },
  {
   "cell_type": "code",
   "execution_count": null,
   "metadata": {},
   "outputs": [],
   "source": [
    "options(repr.plot.width=6, repr.plot.height=4)\n",
    "op = OncogenicPathways(dfx)"
   ]
  },
  {
   "cell_type": "code",
   "execution_count": null,
   "metadata": {},
   "outputs": [],
   "source": [
    "op"
   ]
  },
  {
   "cell_type": "code",
   "execution_count": null,
   "metadata": {},
   "outputs": [],
   "source": [
    "out_svg = paste0('../KCPG_Variants/plots/KCP_wo_AR_','TT-',gsub(\"'\",\"\", gsub(' ','_',ttype)),'_OncogenicPathway_01.svg')\n",
    "paste0(\"Saving drug interaction svg to : \", out_svg)\n",
    "\n",
    "svg(out_svg, height=9, width=12)\n",
    "op\n",
    "dev.off()"
   ]
  },
  {
   "cell_type": "code",
   "execution_count": null,
   "metadata": {},
   "outputs": [],
   "source": [
    "options(repr.plot.width=10, repr.plot.height=2)\n",
    "for( i in 1:length( op$data$Pathway ) ){\n",
    "    pway = op$data$Pathway[i]\n",
    "    PlotOncogenicPathways(dfx,pway, fullPathway = F, removeNonMutated = T)\n",
    "}"
   ]
  },
  {
   "cell_type": "code",
   "execution_count": null,
   "metadata": {},
   "outputs": [],
   "source": [
    "# pathway_lst = c(\"Cell_Cycle\",\"Hippo\",\"MYC\",\"NOTCH\",\"NRF2\",\"PI3K\",\"RTK-RAS\",\"TGF-Beta\",\"TP53\",\"WNT\")"
   ]
  },
  {
   "cell_type": "code",
   "execution_count": null,
   "metadata": {},
   "outputs": [],
   "source": [
    "# options(repr.plot.width=10, repr.plot.height=8)\n",
    "# PlotOncogenicPathways(dfx,pathway_lst[10], fullPathway = T)"
   ]
  },
  {
   "cell_type": "code",
   "execution_count": null,
   "metadata": {},
   "outputs": [],
   "source": [
    "# options(repr.plot.width=10, repr.plot.height=3)\n",
    "# PlotOncogenicPathways(dfx,pathway_lst[9], fullPathway = T)"
   ]
  },
  {
   "cell_type": "code",
   "execution_count": null,
   "metadata": {},
   "outputs": [],
   "source": [
    "# options(repr.plot.width=10, repr.plot.height=9)\n",
    "# PlotOncogenicPathways(dfx,pathway_lst[7], fullPathway = T)"
   ]
  },
  {
   "cell_type": "code",
   "execution_count": null,
   "metadata": {},
   "outputs": [],
   "source": [
    "# options(repr.plot.width=10, repr.plot.height=3)\n",
    "# PlotOncogenicPathways(dfx,pathway_lst[7], fullPathway = F, removeNonMutated = T)"
   ]
  },
  {
   "cell_type": "markdown",
   "metadata": {},
   "source": [
    "## Save the MAF file"
   ]
  },
  {
   "cell_type": "code",
   "execution_count": null,
   "metadata": {},
   "outputs": [],
   "source": [
    "out_file = paste0('../KCPG_Variants/maf_res/KCP_wo_AR_','TT-',gsub(\"'\",\"\", gsub(' ','_',ttype)) )\n",
    "paste0(\"Saving MAF file to : \", out_file)\n",
    "maftools::write.mafSummary(dfx, out_file)"
   ]
  },
  {
   "cell_type": "code",
   "execution_count": null,
   "metadata": {},
   "outputs": [],
   "source": [
    "out_file = paste0('../KCPG_Variants/maf_res/KCP_wo_AR_','TT-',gsub(\"'\",\"\", gsub(' ','_',ttype)),'_drugInteractions.tsv')\n",
    "paste0(\"Saving drug Interactions data to : \", out_file)\n",
    "write.table(dfx_drug, out_file, sep=\"\\t\", row.names = F, quote = F)"
   ]
  },
  {
   "cell_type": "markdown",
   "metadata": {},
   "source": [
    "## Save the data frames"
   ]
  },
  {
   "cell_type": "code",
   "execution_count": null,
   "metadata": {},
   "outputs": [],
   "source": [
    "out_file = paste0('../KCPG_Variants/data/KCP_wo_AR_','TT-',gsub(\"'\",\"\", gsub(' ','_',ttype)),\"_mutation_data.tsv\")\n",
    "paste0(\"Saving mutation data to : \", out_file)\n",
    "write.table(df_ss, file = out_file, sep=\"\\t\", quote = F, row.names = F)"
   ]
  },
  {
   "cell_type": "code",
   "execution_count": null,
   "metadata": {},
   "outputs": [],
   "source": [
    "out_file = paste0('../KCPG_Variants/data/KCP_wo_AR_','TT-',gsub(\"'\",\"\", gsub(' ','_',ttype)),\"_clinical_data.tsv\")\n",
    "paste0(\"Saving clinical data to : \", out_file)\n",
    "write.table(df2_ss, file = out_file, sep=\"\\t\", quote = F, row.names = F)"
   ]
  },
  {
   "cell_type": "code",
   "execution_count": null,
   "metadata": {},
   "outputs": [],
   "source": [
    "version"
   ]
  },
  {
   "cell_type": "code",
   "execution_count": null,
   "metadata": {},
   "outputs": [],
   "source": [
    "sessionInfo()"
   ]
  }
 ],
 "metadata": {
  "kernelspec": {
   "display_name": "p3_R_3.5.0",
   "language": "R",
   "name": "ir3.5.0"
  },
  "language_info": {
   "codemirror_mode": "r",
   "file_extension": ".r",
   "mimetype": "text/x-r-source",
   "name": "R",
   "pygments_lexer": "r",
   "version": "3.5.0"
  },
  "toc": {
   "nav_menu": {},
   "number_sections": true,
   "sideBar": true,
   "skip_h1_title": false,
   "title_cell": "Table of Contents",
   "title_sidebar": "Contents",
   "toc_cell": true,
   "toc_position": {},
   "toc_section_display": true,
   "toc_window_display": false
  },
  "varInspector": {
   "cols": {
    "lenName": 16,
    "lenType": 16,
    "lenVar": 40
   },
   "kernels_config": {
    "python": {
     "delete_cmd_postfix": "",
     "delete_cmd_prefix": "del ",
     "library": "var_list.py",
     "varRefreshCmd": "print(var_dic_list())"
    },
    "r": {
     "delete_cmd_postfix": ") ",
     "delete_cmd_prefix": "rm(",
     "library": "var_list.r",
     "varRefreshCmd": "cat(var_dic_list()) "
    }
   },
   "types_to_exclude": [
    "module",
    "function",
    "builtin_function_or_method",
    "instance",
    "_Feature"
   ],
   "window_display": false
  }
 },
 "nbformat": 4,
 "nbformat_minor": 2
}
